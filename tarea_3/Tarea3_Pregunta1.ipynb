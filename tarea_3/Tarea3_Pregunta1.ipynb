{
  "nbformat": 4,
  "nbformat_minor": 0,
  "metadata": {
    "colab": {
      "name": "Tarea3_Pregunta1-2.ipynb",
      "version": "0.3.2",
      "provenance": [],
      "collapsed_sections": [],
      "toc_visible": true
    },
    "kernelspec": {
      "name": "python3",
      "display_name": "Python 3"
    },
    "accelerator": "GPU"
  },
  "cells": [
    {
      "metadata": {
        "colab_type": "text",
        "id": "mo95-O7JSJgV"
      },
      "cell_type": "markdown",
      "source": [
        "<img src=\"http://www.exalumnos.usm.cl/wp-content/uploads/2015/06/MARCA-Color.jpg\" title=\"Title text\" width=\"50%\" height=\"50%\" />\n",
        "\n",
        "\n",
        "<hr style=\"height:2px;border:none\"/>\n",
        "<h1 align='center'> INF-395/477 Redes Neuronales Artificiales II-2018 </h1>\n",
        "\n",
        "<H3 align='center'> Tarea 3 - Redes Recurrentes y Autoencoders </H3>\n",
        "<hr style=\"height:2px;border:none\"/>\n",
        "\n",
        "\n",
        "\n",
        "**Temas**  \n",
        "* Diseño e implementación de Redes Neuronales Recurrentes (RNN).\n",
        "* Regularización en Redes Recurrentes.\n",
        "* Autoencoders tradicionales y sus aplicaciones\n",
        "\n",
        "** Formalidades **  \n",
        "* Equipos de trabajo de: 2 personas (*cada uno debe estar en condiciones de realizar una presentación y discutir sobre cada punto del trabajo realizado*)\n",
        "* Se debe preparar una presentación de 20 minutos. Presentador será elegido aleatoriamente.\n",
        "* Se debe preparar un (breve) Jupyter/IPython notebook que explique la actividad realizada y las conclusiones del trabajo\n",
        "* Fecha de entrega y discusión: 21 de Diciembre (sin posibilidad de extensiones)\n",
        "* Formato de entrega: envı́o de link Github al correo electrónico del ayudante (*<margarita.bugueno.13@sansano.usm.cl>*) , incluyendo al profesor en copia (*<cvalle@inf.utfsm.cl>*). Por favor especificar el siguiente asunto: [Tarea3-INF395-II-2018] \n",
        "\n",
        "<hr style=\"height:2px;border:none\"/>\n",
        "\n",
        "La tarea se divide en dos secciones:\n",
        "\n",
        "[1.](#primero) RNN sobre texto    \n",
        "[2.](#segundo) Autoencoder en MNIST  \n",
        "\n",
        "\n",
        "### **Nota Importante:**  \n",
        "Para esta actividad **si es que no se cuenta con GPU** se recomienda utilizar el entorno virtual de __[Colaboratory - Google](https://colab.research.google.com/)__* . Así, podrá programar en la nube con recursos elevados y luego descargar el Jupyter Notebook y entregarlo en modo Informe. \n"
      ]
    },
    {
      "metadata": {
        "colab_type": "text",
        "id": "O94QbCzxSoOa"
      },
      "cell_type": "markdown",
      "source": [
        "<a id=\"primero\"></a>\n",
        "## 1. RNN sobre texto\n",
        "\n",
        "Hoy en dı́a, una aplicación relevante de las redes neuronales recurrentes es el modelamiento de texto y lenguaje natural. En esta sección abordaremos el problema de procesar sentencias de texto, proporcionadas por GMB (*Groningen Meaning Bank*), para reconocimiento de entidades y tagger. En específico, trabajaremos con el dataset proprocionado a través de __[Kaggle](https://www.kaggle.com/abhinavwalia95/entity-annotated-corpus)__, que está compuesto por más de un millón de palabras, a fin de realizar predicciones sobre distintas tareas del tipo *many to many* y *many to one*.\n",
        "\n",
        "<img src=\"https://i.stack.imgur.com/b4sus.jpg\" width=\"70%\" />\n",
        "\n",
        "\n",
        "Descargue los datos de la página de Kaggle y cárguelos mediante *pandas*.\n",
        "```python\n",
        "import numpy as np\n",
        "import pandas as pd\n",
        "df_ner = pd.read_csv(\"./entity-annotated-corpus/ner.csv\", encoding =\"cp1252\", error_bad_lines=False)\n",
        "df_ner.dropna(inplace=True)\n",
        "```\n",
        "\n",
        "\n",
        "> a) En esta primera instancia trabajaremos con la tarea de realizar un NER *tag* (**Named Entity Recognition**) sobre cada una de las palabras en las sentencias que se nos presenta en los datos. Esta tarea es del tipo *many to many*, es decir, la entrada es una secuencia y la salida es una secuencia, sin *shift*, por lo que necesitaremos una estructura de red adecuada a ésto. En primer lugar extraiga las columnas que utilizaremos del dataset **¿Por qué es conveniente utilizar *lemma* en vez de la palabra misma *word*?**\n",
        "```python\n",
        "dataset = df_ner.loc[:,[\"lemma\",\"word\",\"pos\",\"tag\",\"prev-iob\"]]\n",
        "```\n",
        "Luego de esto cree una estructura que contendrá todas las sentencias u oraciones y otra estructura que contendrá los las etiquetas (*tags*), esto es un arreglo de arreglos de *lemmas* y un arreglo de arreglos de *tags* respectivamente. **¿Cuales son las dimensiones de ambas estructuras? ¿Cada dato de ejemplo tiene las mismas dimensiones que el resto?**\n",
        "```python\n",
        "dataX,dataY = [],[]\n",
        "lemmas,labels = set(), set()  #uniques\n",
        "for fila in dataset.values:\n",
        "    if fila[-1]==\"__START1__\": \n",
        "        dataX.append(np.asarray(sentence))\n",
        "        dataY.append(np.asarray(labels_sentence))\n",
        "        sentence= []\n",
        "        label_sentence = []\n",
        "    lemmas.add(fila[0])\n",
        "    labels.add(fila[3])\n",
        "    sentence.append(fila[0])#add lemma\n",
        "    labels_sentence.append(fila[3]) #TAG\n",
        "dataX = np.asarray(dataX[1:]) #data to  array\n",
        "dataY = np.asarray(dataY[1:])\n",
        "```    \n",
        "\n",
        "> b) Estudie la distribución del largo de los textos a procesar. Estudie también la frecuencia con la que aparecen las palabras en todo el dataset. **¿Se observa una ley Zipf?**[[1]](#refs) Realice un gráfico de la cantidad de datos por clase. Comente.\n",
        "\n",
        "> c) Es necesario transformar los textos para que puedan ser entregados apropiadamente a la red, por lo que será necesario crear una función que codifique cada posible *lemma* a un número y cada posible *tag* a otro número, utilice esta función sobre las sentencias y *tags* ya generados. **Mida cual es el largo máximo de entre todas las sentencias, la cantidad de *lemmas* y etiquetas**. Además de esto, debido al largo distinto de las sentencias se deberá **realizar *padding* para estandarizar el largo**, considere algun carácter especial para codificar el espacio en blanco que luego se le deberá rellenar, por ejemplo si el largo máximo es de 4 y se tiene la sentencia \"the rocket\" codificada como [32,4] será necesario agregar un *lemma* que codificado significará el fin de la sentencia \"the rocket *ENDPAD ENDPAD*\" que codificado quedará como [32,4,*0, 0*].\n",
        "```python\n",
        "...#add fullfill lemma and tag to the dictionary\n",
        "lemma2idx = {w: i for i, w in enumerate(lemmas)} #Converting text to numbers\n",
        "lab2idx = {t: i for i, t in enumerate(labels)}\n",
        "dataX = [[lemma2idx[lemma] for lemma in sentence ] for sentence in dataX]\n",
        "dataY = [[lab2idx[ner] for ner in ner_tags ] for ner_tags in dataY]\n",
        "n_lemmas = len(lemmas)\n",
        "n_labels = len(labels)\n",
        "```\n",
        "\n",
        "> d) Realice el *padding* anteriormente mencionado, decida sobre qué le parece más conveniente al rellenar con un valor especial respecto al cómo funciona una red recurrente y cómo funciona su memoria **¿Al principio o al final de la sentencia?** Comente\n",
        "```python\n",
        "from keras.preprocessing import sequence\n",
        "X = sequence.pad_sequences(dataX,maxlen=max_input_lenght,padding='post' or 'pre',value=lemma2idx[\"yourspecialcharacter\"]) \n",
        "y = sequence.pad_sequences(dataY,maxlen=max_input_lenght,padding='post' or 'pre',value=lab2idx[\"endtagger\"])\n",
        "```\n",
        "\n",
        "> e) Para el poder entregar una clasificación sobre los distintos *tags* es necesario tranformarlos a *one hot vectors*, debido a que están codificados en números enteros, esto resultará en un arreglo tridimensional con la cantidad de ejemplos, la cantidad máxima de palabras y la cantidad de posibles *tags*. Luego de esto cree los conjuntos de entrenamiento y de prueba con el código a continuación **¿Cuáles son las dimensiones de entrada y salida de cada conjunto?** Comente\n",
        "```python\n",
        "from keras.utils import to_categorical\n",
        "y = np.asarray([to_categorical(i, num_classes=n_labels) for i in y])\n",
        "from sklearn.model_selection import train_test_split\n",
        "X_train, X_test, y_train, y_test = train_test_split(X, y, test_size=0.3,random_state=22)\n",
        "```\n",
        "\n",
        "\n",
        "> f) Defina una red neuronal recurrente *many to many* con compuertas LSTM para aprender a *tagear* la entidad en el texto, entrene y evalúe su desempeño sobre ambos conjuntos. Esta red debe procesar la secuencia de *lemmas* rellenados (o sin rellenar) y entregar el *tag* a cada uno de los *lemmas*, por lo que la salida de la red no es un vector como anteriormente se ha trabajado, sino que tiene una dimensión extra la cual es debido a que en cada instante de tiempo se necesita entregar un *output*. Como los *lemmas* corresponden a datos esencialmente categóricos, o al menos discretos, es necesario generar una representación vectorial de ellas. La primera capa de la red a construir debe por lo tanto incluir una transformación entrenable desde el espacio de representación original (discreto) a ${\\rm I\\!R}^{d}$ , con $d$ la dimensionalidad del *embedding*. **Comente sobre los cambios que sufre un dato al ingresar a la red y la cantidad de parámetros de la red**.\n",
        "```python\n",
        "from keras.models import Sequential\n",
        "from keras.layers import LSTM, Embedding, Dense, Dropout\n",
        "embedding_vector = 32\n",
        "model = Sequential()\n",
        "model.add(Embedding(input_dim=n_lemmas, output_dim=embedding_vector, input_length=max_input_lenght))\n",
        "model.add(LSTM(units=100,return_sequences=True))\n",
        "model.add(Dense(n_labels, activation='softmax'))\n",
        "model.summary()\n",
        "model.compile(loss='categorical_crossentropy', optimizer='adam')\n",
        "model.fit(X_train, y_train, validation_data=(X_test, y_test), epochs=3, batch_size=128)\n",
        "```\n",
        "Para evaluar su modelo utilice una métrica adecauda para el desbalance presente entre las clases como identificó en el punto b).\n",
        "```python\n",
        "from sklearn.metrics import f1_score\n",
        "print(\"F1 score on test: \", f1_score(y_test, model.predict(X_test,verbose=0))\n",
        "```\n",
        "\n",
        "> g) Varı́e la dimensionalidad del embedding inicial y determine si **aumenta o disminuye el error de clasificación**. Comente.\n",
        "\n",
        "> h) Use *Dropout* para entrenar la LSTM. **¿El *Dropout* mejora el desempeño de la red?** Señale cuáles podrı́an ser las causas del comportamiento observado.\n",
        "```python\n",
        "from keras.layers import Dropout\n",
        "model = Sequential()\n",
        "model.add(Embedding(input_dim=n_lemmas, output_dim=embedding_vector, input_length=max_input_lenght))\n",
        "model.add(LSTM(units=100,return_sequences=True)) #or recurrent_dropout=0.2\n",
        "model.add(Dropout(0.2))\n",
        "model.add(Dense(n_labels, activation='softmax'))\n",
        "model.compile(loss='categorical_crossentropy', optimizer='adam')\n",
        "model.fit(X_train, y_train, validation_data=(X_test, y_test), epochs=3, batch_size=128)\n",
        "```\n",
        "\n",
        "> i) Algunos autores señalan la importante dependencia que existe en texto, no solo con las palabras anteriores, sino que con las que siguen.**Mejore la red definida en f) utilizando una red neuronal recurrente Bidireccional**, es decir, con recurrencia en ambas direcciones sobre la secuencia de *lemmas* de entrada. Comente **cuál debiera ser la forma correcta de usar el parámetro *merge_mode*** (concatenar, multiplicar, sumar o promediar) para este caso. Además comente las transformaciones que sufre el patrón de entrada al pasar por las capas. **¿Mejora o empeora el desempeño?** Analice.\n",
        "```python\n",
        "from keras.layers import Bidirectional\n",
        "model = Sequential()\n",
        "model.add(Embedding(input_dim=n_lemmas, output_dim=embedding_vector, input_length=max_input_lenght))\n",
        "layer_lstm = LSTM(units=100,return_sequences=True)\n",
        "model.add(Bidirectional(layer_lstm,merge_mode=choose))\n",
        "model.add(Dense(n_labels, activation='softmax'))\n",
        "model.summary()\n",
        "model.compile(loss='categorical_crossentropy', optimizer='adam')\n",
        "model.fit(X_train, y_train, validation_data=(X_test, y_test), epochs=3, batch_size=128)\n",
        "```\n",
        "\n",
        "> j) Recientemente se ha implementado la capa de *Masking* en las redes recurrentes en *keras*, lo cual podría traer gran ayuda gracias al *padding* que se realiza con el símbolo especial definido. **Entrene la red definida en f) y compare al utilizar esta funcionalidad de enmascarar el valor 0 en este caso para el *default* de la capa *embedding***, comente sobre las curvas de entrenamiento y los tiempos de entrenamiento.\n",
        "```python\n",
        "lemma2idx[\"yourspecialcharacter\"] = 0 #should be zero.. if not correct it\n",
        "embedding_vector = 32\n",
        "model = Sequential()\n",
        "model.add(Embedding(input_dim=n_lemmas, output_dim=embedding_vector, input_length=max_input_lenght,mask_zero=True))\n",
        "...\n",
        "```\n",
        "\n",
        "> k) En base a lo experimentado, **intente mejorar el desempeño de las redes encontradas**, ya sea utilizando y combinando las distintas variaciones que se hicieron en los distintos ítemes, como bien alguna mejora en el pre-proceso de los datos (largo de secuencia, el tipo de *padding* o alguna otra), agregar mayor profundidad, variar el número de unidades/neuronas, utilizando otra *gate* de recurrencia (GRU o Vanilla/Simple), en https://keras.io/layers/recurrent/,  entre otras.\n",
        "\n",
        "\n",
        "> l) Utilice la red entranda anteriormente, **se espera que sea la mejor de esta sección**, y **muestre las predicciones**, el *NER tager*, sobre algún ejemplo de pruebas, comente.  \n",
        "```python\n",
        "p = model.predict(np.array([X_test[i]]))\n",
        "p = np.argmax(p, axis=-1)\n",
        "print(\"{:15}: {}\".format(\"Lemma\", \"Pred\"))\n",
        "for w,pred in zip(X_test[i],p[0]):\n",
        "    print(\"{:15}: {}\".format(lemmas[w],labels[pred]))\n",
        "```\n",
        "\n",
        "Ahora utilizaremos el mismo dataset para realizar una aplicación más conocida hoy en día que es el autocompletar texto, esto es, predecir la siguiente palabra de una sentencia basada en las palabras anteriores de la misma, por lo que la red que utilizaremos es del tipo *many to one*.  \n",
        "Debido a lo extenso del vocabulario es bastante complejo hacer un modelo que prediga una palabra dentro de las millones que pueden haber, por lo que, **trabajaremos a nivel de carácter, en donde las posibilidades (posibles clases) son mucho menores**.\n",
        "\n",
        "> m) **Carge las palabras del dataset** ¿Por qué no los *lemmas*? y cree el corpus con el cual se trabajará, además de crear la codificación de caracteres a números. Esto se presenta en el código a continuación además de crear la estrucutura de los datos con los que se va a trabajar (sub sentencias del corpus original). **Utilice el tamaño del *corpus* que le acomode a la memoria de su computador**.\n",
        "```python\n",
        "dataset = df_ner.loc[:,[\"word\",\"lemma\"]]\n",
        "text = ' '.join(dataset[\"word\"]).lower() #corpus\n",
        "null_character = \"*\"\n",
        "chars = [null_character]+sorted(list(set(text)))\n",
        "print('total chars:', len(chars))\n",
        "char_indices = {c: i for i, c in enumerate(chars)}\n",
        "indices_char = {i: c for i, c in enumerate(chars)}\n",
        "maxlen = 40 # cut the text in semi-redundant sequences of maxlen characters\n",
        "step = 5 \n",
        "sentences = []\n",
        "next_chars = []\n",
        "size = int(len(text)*0.2) #solo un 20% del corpus\n",
        "for i in range(0, size - maxlen, step):\n",
        "    sentences.append(null_character+text[i: i + maxlen])\n",
        "    next_chars.append(text[i + maxlen])\n",
        "print('nb sequences:', len(sentences))\n",
        "```\n",
        "\n",
        "> n) **Procese las sentencias para así tenerlas codificadas en números que van a representar los carácteres**, tal cual se realizó en c) con los *lemmas*, **lo mismo para las etiquetas**. Además de esto deberá realizar el *padding* correspondiente al comienzo de la sentencia, esto es para que la red aprenda cuando venga una frase mas corta de lo entrenado, este símbolo siignificará que no hay información. **Transforme las etiquetas a *one hot vector*** como se realizó en c) y **defina la red** similar a la presentada en f), con un *embedding* seguido de una capa recurrente GRU y la capa de clasificación. Aprovechese de la implementación más rápida de GRU respaldada por __[CuDNN](https://developer.nvidia.com/cudnn)__, una librería de CUDA (NVIDIA)[[2]](#refs) para *Deep Neural Network*. \n",
        "```python\n",
        "dataX = [[char_indices[char] for char in sentence ] for sentence in sentences]\n",
        "dataY = [char_indices[char] for char in next_chars]\n",
        "...#dataX pad sequence padding='pre'\n",
        "...#dataY to categorical with num_classes=len(chars)\n",
        "from keras.layers import CuDNNGRU,GRU\n",
        "embedding_vector = 16\n",
        "model = Sequential()\n",
        "model.add(Embedding(input_dim=len(chars), output_dim=embedding_vector, input_length=maxlen+1))#\n",
        "model.add(CuDNNGRU(units=512,return_sequences=False)) #or GRU\n",
        "model.add(Dropout(0.2))\n",
        "model.add(Dense(len(chars), activation='softmax'))\n",
        "model.compile(loss='categorical_crossentropy', optimizer='adam', metrics=['accuracy'])\n",
        "```\n",
        "\n",
        ">  o) Entrene la red con las funciones que se presentan a continuación que mostrarán el cómo va la tarea de autocompletar texto en cada *epoch*, generando una sentencia completa de 400 carácteres *aleatoriamente* a partir de una semilla *random*. Entrene solo durante 25 *epochs*, a los 15 ya debería comenzar a generar palabras y sonar mas coherente **¿Cuál es la técnica para predecir el siguiente carácter?**\n",
        "```python\n",
        "def predict_next_char(model, sentence):\n",
        "    \"\"\"Predict the next character from the current one\"\"\"    \n",
        "    x_pred = [char_indices[null_character]]+[char_indices[char] for char in sentence]\n",
        "    x_pred = sequence.pad_sequences([x_pred], maxlen=maxlen+1,padding='pre',value=char_indices[null_character])\n",
        "    preds = model.predict(x_pred, verbose=0)[0]\n",
        "    next_index = np.random.choice(len(chars), p=preds) #take a sample\n",
        "    return indices_char[next_index]\n",
        "import random,sys\n",
        "def on_epoch_end(epoch, logs):\n",
        "    \"\"\"Function invoked at end of each epoch. Prints generated text.\"\"\"\n",
        "    print('\\n----- Generating text after Epoch: %d' % epoch)\n",
        "    start_index = random.randint(0, size - maxlen - 1)\n",
        "    sentence = text[start_index: start_index + maxlen]\n",
        "    print('----- Generating with seed: \"' + sentence + '\"')\n",
        "    sys.stdout.write(sentence)\n",
        "    for i in range(400):\n",
        "        next_char = predict_next_char(model, sentence0)\n",
        "        sentence = sentence[1:] + next_char #for next character\n",
        "        sys.stdout.write(next_char)\n",
        "        sys.stdout.flush()\n",
        "    return\n",
        "from keras.callbacks import LambdaCallback\n",
        "print_callback = LambdaCallback(on_epoch_end=on_epoch_end)\n",
        "model.fit(X, y,batch_size=256,epochs=25, callbacks=[print_callback])\n",
        "```\n",
        "\n",
        "> p) Verifique la calidad de la red entrenada, cargando el modelo si es que lo guardó o directamente, entregando una predicción sobre una semilla inicial que usted entregue. **Observe y comente cualitativamente sobre qué pasa cuando la predicción del siguiente carácter fuese de manera determinista, tomando el máximo valor de entre las predicciones.**\n",
        "```python\n",
        "sentence = \"it is \"\n",
        "print('----- Generating with seed: \"' + sentence + '\"')\n",
        "sys.stdout.write(sentence)\n",
        "for i in range(400):\n",
        "    next_char = predict_next_char(model, sentence)\n",
        "    sentence = sentence[1:] + next_char \n",
        "    sys.stdout.write(next_char)\n",
        "    sys.stdout.flush()\n",
        "```\n",
        "\n"
      ]
    },
    {
      "metadata": {
        "colab_type": "code",
        "id": "EAqZsIuxsAGh",
        "colab": {}
      },
      "cell_type": "code",
      "source": [
        "## Funcion axiliar para graficar resultados\n",
        "\n",
        "import matplotlib.pyplot as plt\n",
        "%matplotlib inline\n",
        "\n",
        "def plot_history(hist,title): \n",
        "        \n",
        "    loss = hist['loss']\n",
        "    val_loss = hist['val_loss']\n",
        "    epochs = list(range(1,len(loss)+1))\n",
        "\n",
        "    plt.plot(epochs, loss, 'bo', label='Training loss')\n",
        "    plt.plot(epochs, val_loss, 'r^', label='Validation loss')\n",
        "    plt.title(title+'\\n Loss')\n",
        "    plt.ylabel('Loss')\n",
        "    plt.xlabel('Number of epochs')\n",
        "    plt.legend()\n",
        "    plt.show()"
      ],
      "execution_count": 0,
      "outputs": []
    },
    {
      "metadata": {
        "colab_type": "text",
        "id": "2lw6YjaYYBNU"
      },
      "cell_type": "markdown",
      "source": [
        "### Cargando Datos"
      ]
    },
    {
      "metadata": {
        "colab_type": "code",
        "id": "97R5vP2EpW29",
        "outputId": "0cda594a-4687-4fe3-9a69-f670e1737dd2",
        "colab": {
          "resources": {
            "http://localhost:8080/nbextensions/google.colab/files.js": {
              "data": "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",
              "ok": true,
              "headers": [
                [
                  "content-type",
                  "application/javascript"
                ]
              ],
              "status": 200,
              "status_text": ""
            }
          },
          "base_uri": "https://localhost:8080/",
          "height": 73
        }
      },
      "cell_type": "code",
      "source": [
        "\n",
        "from google.colab import files\n",
        "uploaded = files.upload()"
      ],
      "execution_count": 1,
      "outputs": [
        {
          "output_type": "display_data",
          "data": {
            "text/html": [
              "\n",
              "     <input type=\"file\" id=\"files-b0d5cc58-3d08-4a95-955a-3b4712c8e315\" name=\"files[]\" multiple disabled />\n",
              "     <output id=\"result-b0d5cc58-3d08-4a95-955a-3b4712c8e315\">\n",
              "      Upload widget is only available when the cell has been executed in the\n",
              "      current browser session. Please rerun this cell to enable.\n",
              "      </output>\n",
              "      <script src=\"/nbextensions/google.colab/files.js\"></script> "
            ],
            "text/plain": [
              "<IPython.core.display.HTML object>"
            ]
          },
          "metadata": {
            "tags": []
          }
        },
        {
          "output_type": "stream",
          "text": [
            "Saving ner.csv to ner.csv\n"
          ],
          "name": "stdout"
        }
      ]
    },
    {
      "metadata": {
        "colab_type": "code",
        "id": "2dhYKbjBooEz",
        "outputId": "e0c844b2-e405-4359-e4b8-f0bc2e22a98c",
        "colab": {
          "base_uri": "https://localhost:8080/",
          "height": 35
        }
      },
      "cell_type": "code",
      "source": [
        "import numpy as np\n",
        "import pandas as pd\n",
        "\n",
        "df_ner = pd.read_csv(\"ner.csv\", encoding =\"cp1252\", error_bad_lines=False)\n",
        "df_ner.dropna(inplace=True)"
      ],
      "execution_count": 102,
      "outputs": [
        {
          "output_type": "stream",
          "text": [
            "b'Skipping line 281837: expected 25 fields, saw 34\\n'\n"
          ],
          "name": "stderr"
        }
      ]
    },
    {
      "metadata": {
        "colab_type": "code",
        "id": "Q-f8GMyc_JL-",
        "outputId": "5a3a1495-51e8-475f-cf4a-867ac640f92e",
        "colab": {
          "base_uri": "https://localhost:8080/",
          "height": 35
        }
      },
      "cell_type": "code",
      "source": [
        "print(\"Size: \", df_ner.size)"
      ],
      "execution_count": 103,
      "outputs": [
        {
          "output_type": "stream",
          "text": [
            "Size:  26269850\n"
          ],
          "name": "stdout"
        }
      ]
    },
    {
      "metadata": {
        "colab_type": "text",
        "id": "o3ki8mB420Ux"
      },
      "cell_type": "markdown",
      "source": [
        "### a) Extrayendo lemmas y tags de cada sentencia"
      ]
    },
    {
      "metadata": {
        "colab_type": "code",
        "id": "470aaQHJvVBb",
        "colab": {}
      },
      "cell_type": "code",
      "source": [
        "dataset = df_ner.loc[:,[\"lemma\",\"word\",\"pos\",\"tag\",\"prev-iob\"]]"
      ],
      "execution_count": 0,
      "outputs": []
    },
    {
      "metadata": {
        "id": "LlAHKNWDyJZP",
        "colab_type": "code",
        "outputId": "a2b88d10-cce2-4ef1-f9e1-2aa7e9219bd6",
        "colab": {
          "base_uri": "https://localhost:8080/",
          "height": 204
        }
      },
      "cell_type": "code",
      "source": [
        "dataset.head()\n"
      ],
      "execution_count": 105,
      "outputs": [
        {
          "output_type": "execute_result",
          "data": {
            "text/html": [
              "<div>\n",
              "<style scoped>\n",
              "    .dataframe tbody tr th:only-of-type {\n",
              "        vertical-align: middle;\n",
              "    }\n",
              "\n",
              "    .dataframe tbody tr th {\n",
              "        vertical-align: top;\n",
              "    }\n",
              "\n",
              "    .dataframe thead th {\n",
              "        text-align: right;\n",
              "    }\n",
              "</style>\n",
              "<table border=\"1\" class=\"dataframe\">\n",
              "  <thead>\n",
              "    <tr style=\"text-align: right;\">\n",
              "      <th></th>\n",
              "      <th>lemma</th>\n",
              "      <th>word</th>\n",
              "      <th>pos</th>\n",
              "      <th>tag</th>\n",
              "      <th>prev-iob</th>\n",
              "    </tr>\n",
              "  </thead>\n",
              "  <tbody>\n",
              "    <tr>\n",
              "      <th>0</th>\n",
              "      <td>thousand</td>\n",
              "      <td>Thousands</td>\n",
              "      <td>NNS</td>\n",
              "      <td>O</td>\n",
              "      <td>__START1__</td>\n",
              "    </tr>\n",
              "    <tr>\n",
              "      <th>1</th>\n",
              "      <td>of</td>\n",
              "      <td>of</td>\n",
              "      <td>IN</td>\n",
              "      <td>O</td>\n",
              "      <td>O</td>\n",
              "    </tr>\n",
              "    <tr>\n",
              "      <th>2</th>\n",
              "      <td>demonstr</td>\n",
              "      <td>demonstrators</td>\n",
              "      <td>NNS</td>\n",
              "      <td>O</td>\n",
              "      <td>O</td>\n",
              "    </tr>\n",
              "    <tr>\n",
              "      <th>3</th>\n",
              "      <td>have</td>\n",
              "      <td>have</td>\n",
              "      <td>VBP</td>\n",
              "      <td>O</td>\n",
              "      <td>O</td>\n",
              "    </tr>\n",
              "    <tr>\n",
              "      <th>4</th>\n",
              "      <td>march</td>\n",
              "      <td>marched</td>\n",
              "      <td>VBN</td>\n",
              "      <td>O</td>\n",
              "      <td>O</td>\n",
              "    </tr>\n",
              "  </tbody>\n",
              "</table>\n",
              "</div>"
            ],
            "text/plain": [
              "      lemma           word  pos tag    prev-iob\n",
              "0  thousand      Thousands  NNS   O  __START1__\n",
              "1        of             of   IN   O           O\n",
              "2  demonstr  demonstrators  NNS   O           O\n",
              "3      have           have  VBP   O           O\n",
              "4     march        marched  VBN   O           O"
            ]
          },
          "metadata": {
            "tags": []
          },
          "execution_count": 105
        }
      ]
    },
    {
      "metadata": {
        "colab_type": "text",
        "id": "yx2mH3suxAI2"
      },
      "cell_type": "markdown",
      "source": [
        "Nos conviene usar \"lemma\" antes que word, debido que muchas palabras pueden mapear a un mismo lemma, por lo que estamos reduciendo la dimensionalidad de la entrada"
      ]
    },
    {
      "metadata": {
        "colab_type": "code",
        "id": "zHuC32uGypzo",
        "colab": {}
      },
      "cell_type": "code",
      "source": [
        "dataX,dataY = [],[]\n",
        "lemmas,labels = set(), set()  #uniques\n",
        "frec_labels = dict()\n",
        "frec_lemmas = dict()\n",
        "\n",
        "sentence= []\n",
        "labels_sentence = []\n",
        "for i in range(len(dataset.values)-1, -1,-1):\n",
        "    fila = dataset.values[i]\n",
        "    if fila[-1]==\"__START1__\": \n",
        "        dataX.insert(0,np.asarray(sentence))\n",
        "        dataY.insert(0,np.asarray(labels_sentence))\n",
        "        sentence= []\n",
        "        labels_sentence = []\n",
        "    lemmas.add(fila[0])\n",
        "    if fila[0] not in frec_lemmas:\n",
        "        frec_lemmas[fila[0]] = 0\n",
        "    frec_lemmas[fila[0]] += 1\n",
        "    labels.add(fila[3])\n",
        "    if fila[3] not in frec_labels:\n",
        "        frec_labels[fila[3]] = 0\n",
        "    frec_labels[fila[3]] += 1\n",
        "    sentence.insert(0,fila[0])#add lemma\n",
        "    labels_sentence.insert(0,fila[3]) #TAG\n",
        "\n",
        "dataX = np.asarray(dataX[1:]) #data to  array\n",
        "dataY = np.asarray(dataY[1:])"
      ],
      "execution_count": 0,
      "outputs": []
    },
    {
      "metadata": {
        "colab_type": "code",
        "id": "N9-lp6Du3fXA",
        "outputId": "2a6bb644-8948-4a11-ff94-b3131192cd15",
        "colab": {
          "base_uri": "https://localhost:8080/",
          "height": 89
        }
      },
      "cell_type": "code",
      "source": [
        "print(\"Large dataX: \", len(dataX))\n",
        "print(\"Large dataY: \", len(dataY))\n",
        "print(\"Large lemmas set: \", len(lemmas))\n",
        "print(\"Large labels set: \", len(labels))"
      ],
      "execution_count": 77,
      "outputs": [
        {
          "output_type": "stream",
          "text": [
            "Large dataX:  48081\n",
            "Large dataY:  48081\n",
            "Large lemmas set:  20243\n",
            "Large labels set:  17\n"
          ],
          "name": "stdout"
        }
      ]
    },
    {
      "metadata": {
        "colab_type": "text",
        "id": "wZZ-XbER4aII"
      },
      "cell_type": "markdown",
      "source": [
        "Tenemos 48081 sentencias, un total de 20243 lemmas distintos, y un total de 17 tags distintos."
      ]
    },
    {
      "metadata": {
        "colab_type": "code",
        "id": "kbK00dUi4LRg",
        "outputId": "a115f09f-8243-4e73-d44c-440f1d133b6a",
        "colab": {
          "base_uri": "https://localhost:8080/",
          "height": 341
        }
      },
      "cell_type": "code",
      "source": [
        "print(\"All tags(labels): \")\n",
        "for label in labels:\n",
        "    print(label)"
      ],
      "execution_count": 78,
      "outputs": [
        {
          "output_type": "stream",
          "text": [
            "All tags(labels): \n",
            "B-org\n",
            "I-eve\n",
            "B-tim\n",
            "B-eve\n",
            "I-geo\n",
            "O\n",
            "B-geo\n",
            "B-art\n",
            "I-org\n",
            "B-gpe\n",
            "B-per\n",
            "I-art\n",
            "B-nat\n",
            "I-nat\n",
            "I-per\n",
            "I-tim\n",
            "I-gpe\n"
          ],
          "name": "stdout"
        }
      ]
    },
    {
      "metadata": {
        "colab_type": "text",
        "id": "PqkgE6zW2vRe"
      },
      "cell_type": "markdown",
      "source": [
        "### b) Distribución del largo de los textos"
      ]
    },
    {
      "metadata": {
        "colab_type": "code",
        "id": "QLl5zogN4si6",
        "colab": {}
      },
      "cell_type": "code",
      "source": [
        "dataX_larges = pd.Series(list(map(lambda x: len(x), dataX)))\n",
        "dataY_larges = pd.Series(list(map(lambda x: len(x), dataY)))\n"
      ],
      "execution_count": 0,
      "outputs": []
    },
    {
      "metadata": {
        "colab_type": "code",
        "id": "Vl5IKKYd7uLt",
        "outputId": "3402a4bb-b091-4120-87de-73b66e3411a2",
        "colab": {
          "base_uri": "https://localhost:8080/",
          "height": 334
        }
      },
      "cell_type": "code",
      "source": [
        "\n",
        "import matplotlib\n",
        "import matplotlib.pyplot as plt\n",
        "\n",
        "\n",
        "plt.title('dataX larges')\n",
        "plt.hist(dataX_larges, bins = 20)\n",
        "\n",
        "plt.show()\n",
        "\n",
        "max_input_lenght = dataX_larges.max()\n",
        "\n",
        "print(\"dataX larges mean: \", dataX_larges.mean())\n",
        "print(\"dataX larges std: \", dataX_larges.std())\n",
        "print(\"dataX larges max\", max_input_lenght)\n"
      ],
      "execution_count": 80,
      "outputs": [
        {
          "output_type": "display_data",
          "data": {
            "image/png": "[encoded data removed]",
            "text/plain": [
              "<matplotlib.figure.Figure at 0x7f09667e6668>"
            ]
          },
          "metadata": {
            "tags": []
          }
        },
        {
          "output_type": "stream",
          "text": [
            "dataX larges mean:  21.85414196876105\n",
            "dataX larges std:  7.951851909204399\n",
            "dataX larges max 81\n"
          ],
          "name": "stdout"
        }
      ]
    },
    {
      "metadata": {
        "id": "2cLj89XX2cjQ",
        "colab_type": "code",
        "outputId": "51c23882-890c-4e7d-88cc-ab19d8a15224",
        "colab": {
          "base_uri": "https://localhost:8080/",
          "height": 1009
        }
      },
      "cell_type": "code",
      "source": [
        "frec_labels_sort = []\n",
        "for lab, num in frec_labels.items():\n",
        "    frec_labels_sort.append((num, lab))\n",
        "frec_labels_sort.sort(reverse=True)\n",
        "\n",
        "frec_lemmas_sort = []\n",
        "for lemma, num in frec_lemmas.items():\n",
        "    frec_lemmas_sort.append((num, lemma))\n",
        "frec_lemmas_sort.sort(reverse=True)\n",
        "\n",
        "print(frec_labels_sort)\n",
        "\n",
        "print(\"\\n LEMMAS: \\n\\n\")\n",
        "for i in range(30):\n",
        "    print(frec_lemmas_sort[i][1],\"\\t\", frec_lemmas_sort[i][0]/len(dataX))\n",
        "    \n",
        "print(\"\\n LABELS: \\n\\n\")\n",
        "for i in range(15):\n",
        "    print(frec_labels_sort[i][1],\"\\t\", frec_labels_sort[i][0]/len(dataY))"
      ],
      "execution_count": 28,
      "outputs": [
        {
          "output_type": "stream",
          "text": [
            "[(889973, 'O'), (37525, 'B-geo'), (20193, 'B-tim'), (20184, 'B-org'), (17382, 'I-per'), (17011, 'B-per'), (16537, 'I-org'), (16392, 'B-gpe'), (7409, 'I-geo'), (6298, 'I-tim'), (434, 'B-art'), (348, 'B-eve'), (297, 'I-eve'), (280, 'I-art'), (229, 'I-gpe'), (226, 'B-nat'), (76, 'I-nat')]\n",
            "\n",
            " LEMMAS: \n",
            "\n",
            "\n",
            "the \t 1.3365154634886962\n",
            ". \t 0.9961315280464217\n",
            ", \t 0.6756307065160875\n",
            "in \t 0.5820802395956823\n",
            "of \t 0.5495102015349098\n",
            "to \t 0.4878434308770616\n",
            "a \t 0.47621721678001705\n",
            "and \t 0.42078991701503715\n",
            "'s \t 0.22697115284623864\n",
            "say \t 0.20128533100393087\n",
            "for \t 0.18106944531103764\n",
            "has \t 0.1493937314115763\n",
            "on \t 0.1492897402300285\n",
            "is \t 0.14211434870322998\n",
            "that \t 0.13456458892285933\n",
            "it \t 0.1327759406002371\n",
            "have \t 0.11744764044009068\n",
            "with \t 0.11378715084960796\n",
            "said \t 0.11114577483829371\n",
            "was \t 0.10274328736923109\n",
            "at \t 0.09798049125434163\n",
            "from \t 0.09494394875314573\n",
            "by \t 0.09346727397516691\n",
            "he \t 0.09132505563528213\n",
            "an \t 0.0887876708055157\n",
            "as \t 0.08749818015432291\n",
            "offici \t 0.08716540837336993\n",
            "u.s. \t 0.08560554065015287\n",
            "are \t 0.07836775441442566\n",
            "kill \t 0.07793099145192488\n",
            "\n",
            " LABELS: \n",
            "\n",
            "\n",
            "O \t 18.509868763128885\n",
            "B-geo \t 0.7804538175162746\n",
            "B-tim \t 0.41997878579896425\n",
            "B-org \t 0.4197916016721782\n",
            "I-per \t 0.3615149435327884\n",
            "B-per \t 0.3537987978619413\n",
            "I-org \t 0.3439404338512094\n",
            "B-gpe \t 0.3409246895863231\n",
            "I-geo \t 0.15409413281753706\n",
            "I-tim \t 0.13098729227761485\n",
            "B-art \t 0.009026434558349452\n",
            "B-eve \t 0.007237786235727211\n",
            "I-eve \t 0.0061770761839396015\n",
            "I-art \t 0.005823506166677065\n",
            "I-gpe \t 0.004762796114889457\n"
          ],
          "name": "stdout"
        }
      ]
    },
    {
      "metadata": {
        "colab_type": "text",
        "id": "wugFGFaJBXVe"
      },
      "cell_type": "markdown",
      "source": [
        "Podemos apreciar el porcentaje de los 10 lemmas y labels con mas aparición."
      ]
    },
    {
      "metadata": {
        "id": "E2AGs11WjiUU",
        "colab_type": "code",
        "colab": {
          "base_uri": "https://localhost:8080/",
          "height": 376
        },
        "outputId": "b300c705-ad5c-4380-e18f-75ec84d8fd24"
      },
      "cell_type": "code",
      "source": [
        "from math import log\n",
        "\n",
        "frecuencias = dict()\n",
        "\n",
        "for i in frec_lemmas_sort:\n",
        "    if i[0] not in frecuencias:\n",
        "        frecuencias[i[0]] = 0\n",
        "    frecuencias[i[0]] += 1\n",
        "    \n",
        "\n",
        "x = [log(i[0]) for i in frecuencias.items()]\n",
        "y = [log(i[1]) for i in frecuencias.items()]\n",
        "    \n",
        "plt.xlabel('Logaritmo del ranking')\n",
        "plt.ylabel('Logaritmo de cantidad de frecuencia')    \n",
        "plt.title('Frecuencias')\n",
        "plt.plot(x,y)\n",
        "\n",
        "plt.show()\n",
        "    \n",
        "\n"
      ],
      "execution_count": 31,
      "outputs": [
        {
          "output_type": "display_data",
          "data": {
            "image/png": "[encoded data removed]",
            "text/plain": [
              "<matplotlib.figure.Figure at 0x7f09cb5a1940>"
            ]
          },
          "metadata": {
            "tags": []
          }
        }
      ]
    },
    {
      "metadata": {
        "id": "AfJp5ZXNnxMb",
        "colab_type": "text"
      },
      "cell_type": "markdown",
      "source": [
        "#### Comentario\n",
        "\n",
        "Podemos apreciar que se cumple la ley de Zipf, debido a que unas muy pocas palabras acumulan un porcentaje grande de las apariciones, mientras que mientras mas crece el número de apariciones por palabra, menos palabras con este numero de apariciones hay."
      ]
    },
    {
      "metadata": {
        "colab_type": "text",
        "id": "ISMqHzQxEdAE"
      },
      "cell_type": "markdown",
      "source": [
        "### c) Pasando lemmas y tags a números"
      ]
    },
    {
      "metadata": {
        "colab_type": "code",
        "id": "Lr_CV-X-Ebca",
        "outputId": "38393bf2-1a73-45f7-d608-003baa740433",
        "colab": {
          "base_uri": "https://localhost:8080/",
          "height": 53
        }
      },
      "cell_type": "code",
      "source": [
        "lemma2idx = {w: i for i, w in enumerate(lemmas,1)} #Converting text to numbers\n",
        "lab2idx = {t: i for i, t in enumerate(labels,1)}\n",
        "lemma2idx[\"ENDPAD\"] = 0\n",
        "lab2idx[\"ENDPAD\"] = 0\n",
        "\n",
        "dataX_numbers = [[lemma2idx[lemma] for lemma in sentence ] for sentence in dataX]\n",
        "dataY_numbers = [[lab2idx[ner] for ner in ner_tags ] for ner_tags in dataY]\n",
        "n_lemmas = len(lemmas)+1\n",
        "n_labels = len(labels)+1\n",
        "\n",
        "print(\"n_lemmas (incluyendo ENDPAD): \", n_lemmas)\n",
        "print(\"n_labels (incluyendo ENDPAD): \", n_labels)"
      ],
      "execution_count": 32,
      "outputs": [
        {
          "output_type": "stream",
          "text": [
            "n_lemmas (incluyendo ENDPAD):  20244\n",
            "n_labels (incluyendo ENDPAD):  18\n"
          ],
          "name": "stdout"
        }
      ]
    },
    {
      "metadata": {
        "colab_type": "text",
        "id": "EiTpvSzDS16c"
      },
      "cell_type": "markdown",
      "source": [
        "#### Padding"
      ]
    },
    {
      "metadata": {
        "colab_type": "code",
        "id": "yLHMatADS67U",
        "colab": {}
      },
      "cell_type": "code",
      "source": [
        "def zeros_padding(lista, n):\n",
        "    return lista[:n] + [0]*(n-len(lista))\n",
        "\n",
        "dataX_numbers_padd = list(map(lambda x: zeros_padding(x, max_input_lenght), dataX_numbers))\n",
        "dataY_numbers_padd = list(map(lambda x: zeros_padding(x, max_input_lenght), dataY_numbers))"
      ],
      "execution_count": 0,
      "outputs": []
    },
    {
      "metadata": {
        "colab_type": "text",
        "id": "ln0eu2wiT_K8"
      },
      "cell_type": "markdown",
      "source": [
        "### d) Aplicando padding "
      ]
    },
    {
      "metadata": {
        "colab_type": "code",
        "id": "hx-lNvIxUCrE",
        "outputId": "52894b57-8233-4ec3-f26f-c077330ee7ae",
        "colab": {
          "base_uri": "https://localhost:8080/",
          "height": 179
        }
      },
      "cell_type": "code",
      "source": [
        "from keras.preprocessing import sequence\n",
        "X = sequence.pad_sequences(dataX_numbers, maxlen=max_input_lenght,padding='post', value=lemma2idx[\"ENDPAD\"]) \n",
        "y = sequence.pad_sequences(dataY_numbers, maxlen=max_input_lenght,padding='post', value=lab2idx[\"ENDPAD\"])\n",
        "\n",
        "print(len(X[0]))\n",
        "print(X[0])"
      ],
      "execution_count": 34,
      "outputs": [
        {
          "output_type": "stream",
          "text": [
            "Using TensorFlow backend.\n"
          ],
          "name": "stderr"
        },
        {
          "output_type": "stream",
          "text": [
            "81\n",
            "[13317  9710  1989  2371  1445 20084  8465  1445   148  9999  1277 11512\n",
            " 11907 12350 15842  7689 18153  5867  2953 17897  3616 18153 18696 18153\n",
            " 19327  1445 18365 17765 18153 15609     0     0     0     0     0     0\n",
            "     0     0     0     0     0     0     0     0     0     0     0     0\n",
            "     0     0     0     0     0     0     0     0     0     0     0     0\n",
            "     0     0     0     0     0     0     0     0     0     0     0     0\n",
            "     0     0     0     0     0     0     0     0     0]\n"
          ],
          "name": "stdout"
        }
      ]
    },
    {
      "metadata": {
        "colab_type": "text",
        "id": "trJdjIWieYvB"
      },
      "cell_type": "markdown",
      "source": [
        "### e) Transformando a one hot vector\n"
      ]
    },
    {
      "metadata": {
        "colab_type": "code",
        "id": "jwdIqG1hearz",
        "colab": {}
      },
      "cell_type": "code",
      "source": [
        "from keras.utils import to_categorical\n",
        "y = np.asarray([to_categorical(i, num_classes=n_labels) for i in y])\n",
        "from sklearn.model_selection import train_test_split\n",
        "X_train, X_test, y_train, y_test = train_test_split(X, y, test_size=0.3,random_state=22)"
      ],
      "execution_count": 0,
      "outputs": []
    },
    {
      "metadata": {
        "colab_type": "text",
        "id": "YkUYLNjEgH4Q"
      },
      "cell_type": "markdown",
      "source": [
        "Las dimensiones de entrada son 42, numeros que van desde 0 a 1253, y la dimensión de salida es 15, un numero booleano por cada tag existente"
      ]
    },
    {
      "metadata": {
        "colab_type": "text",
        "id": "2tjmwwFEgZKG"
      },
      "cell_type": "markdown",
      "source": [
        "### f) Entrenando primer modelo"
      ]
    },
    {
      "metadata": {
        "colab_type": "code",
        "id": "l5TDH4kugYee",
        "outputId": "73eea5e0-1962-42c9-970a-4e79810841f3",
        "colab": {
          "base_uri": "https://localhost:8080/",
          "height": 377
        }
      },
      "cell_type": "code",
      "source": [
        "from keras.models import Sequential\n",
        "from keras.layers import LSTM, Embedding, Dense, Dropout\n",
        "embedding_vector = 32\n",
        "model = Sequential()\n",
        "model.add(Embedding(input_dim=n_lemmas, output_dim=embedding_vector, input_length=max_input_lenght))\n",
        "model.add(LSTM(units=100,return_sequences=True))\n",
        "model.add(Dense(n_labels, activation='softmax'))\n",
        "model.summary()\n",
        "model.compile(loss='categorical_crossentropy', optimizer='adam')\n",
        "history_f = model.fit(X_train, y_train, validation_data=(X_test, y_test), epochs=3, batch_size=128)"
      ],
      "execution_count": 36,
      "outputs": [
        {
          "output_type": "stream",
          "text": [
            "_________________________________________________________________\n",
            "Layer (type)                 Output Shape              Param #   \n",
            "=================================================================\n",
            "embedding_1 (Embedding)      (None, 81, 32)            647808    \n",
            "_________________________________________________________________\n",
            "lstm_1 (LSTM)                (None, 81, 100)           53200     \n",
            "_________________________________________________________________\n",
            "dense_1 (Dense)              (None, 81, 18)            1818      \n",
            "=================================================================\n",
            "Total params: 702,826\n",
            "Trainable params: 702,826\n",
            "Non-trainable params: 0\n",
            "_________________________________________________________________\n",
            "Train on 33656 samples, validate on 14425 samples\n",
            "Epoch 1/3\n",
            "33656/33656 [==============================] - 66s 2ms/step - loss: 0.5160 - val_loss: 0.2215\n",
            "Epoch 2/3\n",
            "33656/33656 [==============================] - 63s 2ms/step - loss: 0.1655 - val_loss: 0.1219\n",
            "Epoch 3/3\n",
            "33656/33656 [==============================] - 63s 2ms/step - loss: 0.1057 - val_loss: 0.0928\n"
          ],
          "name": "stdout"
        }
      ]
    },
    {
      "metadata": {
        "colab_type": "code",
        "id": "59TRv0WasPMA",
        "outputId": "00dc7fe8-5ec5-47de-ce3c-fe4f2d4e0ae7",
        "colab": {
          "base_uri": "https://localhost:8080/",
          "height": 308
        }
      },
      "cell_type": "code",
      "source": [
        "plot_history(history_f.history, \"F\")"
      ],
      "execution_count": 39,
      "outputs": [
        {
          "output_type": "display_data",
          "data": {
            "image/png": "[encoded data removed]",
            "text/plain": [
              "<matplotlib.figure.Figure at 0x7f09cf966e10>"
            ]
          },
          "metadata": {
            "tags": []
          }
        }
      ]
    },
    {
      "metadata": {
        "colab_type": "code",
        "id": "X4ZP_wGGKzJC",
        "colab": {}
      },
      "cell_type": "code",
      "source": [
        "def onehot_to_number(vector):\n",
        "    vector = list(vector)\n",
        "    maxpos = vector.index(max(vector))\n",
        "    return maxpos\n",
        "\n",
        "def categorical_to_num(lista):\n",
        "    categorical = list()\n",
        "    for sequence in lista:\n",
        "        for vector in sequence:\n",
        "            number = onehot_to_number(vector)\n",
        "            categorical.append(number)\n",
        "    return categorical\n",
        "\n",
        "def multi_to_one_output(lista):\n",
        "    ret = list()\n",
        "    for seq in lista:\n",
        "        for j in seq:\n",
        "            ret.append(j)\n",
        "    return ret\n",
        "        "
      ],
      "execution_count": 0,
      "outputs": []
    },
    {
      "metadata": {
        "colab_type": "text",
        "id": "51FCfJqbY7SH"
      },
      "cell_type": "markdown",
      "source": [
        "#### Removing padding en test set"
      ]
    },
    {
      "metadata": {
        "colab_type": "text",
        "id": "xwLTdsdAfqZK"
      },
      "cell_type": "markdown",
      "source": [
        "Para poder comparar resultados y calcular el f1-score debemos eliminar el padding utilizado en el X_test y el Y_test.\n",
        "Esto para esto eliminamos todos los 0, que corresponden a las etiquetas \"ENDPAD\" agregados enteriormente."
      ]
    },
    {
      "metadata": {
        "colab_type": "code",
        "id": "zoKQt6-TcbBY",
        "colab": {}
      },
      "cell_type": "code",
      "source": [
        "one_hot_zero = list([1.]+ [0.]*(n_labels-1))"
      ],
      "execution_count": 0,
      "outputs": []
    },
    {
      "metadata": {
        "colab_type": "code",
        "id": "rd-SjrGbZbvK",
        "colab": {}
      },
      "cell_type": "code",
      "source": [
        "# X_test_no_pad no es necesario, solo el y_test_no_pad\n",
        "\n",
        "X_test_no_pad = list(map(lambda l: list(filter(lambda a: a != 0., l)), list(X_test))) \n",
        "y_test_no_pad = list(map(lambda l: list(filter(lambda a: list(a) != one_hot_zero, l)), list(y_test)))"
      ],
      "execution_count": 0,
      "outputs": []
    },
    {
      "metadata": {
        "colab_type": "text",
        "id": "wmCRso8KeUB5"
      },
      "cell_type": "markdown",
      "source": [
        "Chequeando si la conversión esta bien"
      ]
    },
    {
      "metadata": {
        "colab_type": "code",
        "id": "WFnSJff0dUYI",
        "outputId": "9feebb17-c174-49f9-8f9a-227cbc7db3dc",
        "colab": {
          "base_uri": "https://localhost:8080/",
          "height": 35
        }
      },
      "cell_type": "code",
      "source": [
        "if len(X_test_no_pad) != len(y_test_no_pad):\n",
        "    print(\"Cuidado largos no iguales\")\n",
        "else:\n",
        "    print(\"Largos iguales\")"
      ],
      "execution_count": 43,
      "outputs": [
        {
          "output_type": "stream",
          "text": [
            "Largos iguales\n"
          ],
          "name": "stdout"
        }
      ]
    },
    {
      "metadata": {
        "colab_type": "code",
        "id": "IjiF0Ngzd829",
        "outputId": "c5d6d978-497b-4f9c-cbe3-a95751f04d3b",
        "colab": {
          "base_uri": "https://localhost:8080/",
          "height": 35
        }
      },
      "cell_type": "code",
      "source": [
        "count = 0\n",
        "for i in range(len(X_test_no_pad)):\n",
        "    if len(X_test_no_pad[i]) != len(y_test_no_pad[i]):\n",
        "        count += 1\n",
        "print(\"Secuencias de largo distinto: \", count)"
      ],
      "execution_count": 44,
      "outputs": [
        {
          "output_type": "stream",
          "text": [
            "Secuencias de largo distinto:  0\n"
          ],
          "name": "stdout"
        }
      ]
    },
    {
      "metadata": {
        "colab_type": "text",
        "id": "aTAhaviZflNh"
      },
      "cell_type": "markdown",
      "source": [
        "#### Prediciendo\n",
        "\n",
        "Predecimos los tag para la secuencia de X_test que si tiene padding. Esto se hace debido a que el padding es necesario para poder alimentar la red, luego se comparara el resultado con el X_test_no_pad, el X de prueba sin padding, para asi eliminar el padding."
      ]
    },
    {
      "metadata": {
        "colab_type": "code",
        "id": "AUqJnLvpZD-g",
        "colab": {}
      },
      "cell_type": "code",
      "source": [
        "y_predict = model.predict(X_test,verbose=0)\n",
        "y_predict_2 = model.predict_classes(X_test,verbose=0)"
      ],
      "execution_count": 0,
      "outputs": []
    },
    {
      "metadata": {
        "colab_type": "text",
        "id": "cjQ0IqMog0N5"
      },
      "cell_type": "markdown",
      "source": [
        "Eliminamos el padding en el y_predict. Para cada secuencia en y_predict, reducimos su largo al largo de su secuencia equivalente en el X de test que no posee padding."
      ]
    },
    {
      "metadata": {
        "colab_type": "code",
        "id": "uMVs5WYKfmyS",
        "colab": {}
      },
      "cell_type": "code",
      "source": [
        "y_predict_no_pad = list()\n",
        "for i in range(len(X_test_no_pad)):\n",
        "    y_predict_no_pad.append(y_predict[i][:len(X_test_no_pad[i])])\n",
        "    \n",
        "y_predict_2_no_pad = list()\n",
        "for i in range(len(X_test_no_pad)):\n",
        "    y_predict_2_no_pad.append(y_predict_2[i][:len(X_test_no_pad[i])])"
      ],
      "execution_count": 0,
      "outputs": []
    },
    {
      "metadata": {
        "colab_type": "code",
        "id": "SV0YbnBAgJwJ",
        "outputId": "45583ab2-453d-42e5-9b2a-bd0b53ad5b9a",
        "colab": {
          "base_uri": "https://localhost:8080/",
          "height": 35
        }
      },
      "cell_type": "code",
      "source": [
        "count = 0\n",
        "for i in range(len(X_test_no_pad)):\n",
        "    if len(X_test_no_pad[i]) != len(y_predict_no_pad[i]):\n",
        "        count += 1\n",
        "print(\"Secuencias de largo distinto: \", count)"
      ],
      "execution_count": 47,
      "outputs": [
        {
          "output_type": "stream",
          "text": [
            "Secuencias de largo distinto:  0\n"
          ],
          "name": "stdout"
        }
      ]
    },
    {
      "metadata": {
        "colab_type": "code",
        "id": "6X7THxotQVAB",
        "colab": {}
      },
      "cell_type": "code",
      "source": [
        "y_test_cat = categorical_to_num(y_test_no_pad)\n",
        "y_predict_cat = categorical_to_num(y_predict_no_pad)\n",
        "y_predict_2_cat = multi_to_one_output(y_predict_2_no_pad)"
      ],
      "execution_count": 0,
      "outputs": []
    },
    {
      "metadata": {
        "colab_type": "code",
        "id": "-dzEKjt6QyKg",
        "outputId": "93debea2-1fd1-4b34-9e95-6a5a3a21b4cf",
        "colab": {
          "base_uri": "https://localhost:8080/",
          "height": 71
        }
      },
      "cell_type": "code",
      "source": [
        "from sklearn.utils.multiclass import type_of_target\n",
        "\n",
        "print(type_of_target(y_test_cat))\n",
        "print(type_of_target(y_predict_cat))\n",
        "print(type_of_target(y_predict_2_cat))"
      ],
      "execution_count": 49,
      "outputs": [
        {
          "output_type": "stream",
          "text": [
            "multiclass\n",
            "multiclass\n",
            "multiclass\n"
          ],
          "name": "stdout"
        }
      ]
    },
    {
      "metadata": {
        "colab_type": "code",
        "id": "duOMQ84jntzy",
        "outputId": "a83cb1d0-41eb-4eba-8d96-64417d258095",
        "colab": {
          "base_uri": "https://localhost:8080/",
          "height": 145
        }
      },
      "cell_type": "code",
      "source": [
        "from sklearn.metrics import f1_score\n",
        "\n",
        "print(\"F1 score on test (predict): \\t\", f1_score(y_test_cat, y_predict_cat, average='weighted'))\n",
        "\n",
        "\n",
        "print(\"F1 score on test (predict_classes): \\t\", f1_score(y_test_cat, y_predict_2_cat, average='weighted'))\n",
        "\n"
      ],
      "execution_count": 50,
      "outputs": [
        {
          "output_type": "stream",
          "text": [
            "F1 score on test (predict): \t 0.8843428355707884\n",
            "F1 score on test (predict_classes): \t 0.8843428355707884\n"
          ],
          "name": "stdout"
        },
        {
          "output_type": "stream",
          "text": [
            "/usr/local/lib/python3.6/dist-packages/sklearn/metrics/classification.py:1143: UndefinedMetricWarning: F-score is ill-defined and being set to 0.0 in labels with no predicted samples.\n",
            "  'precision', 'predicted', average, warn_for)\n",
            "/usr/local/lib/python3.6/dist-packages/sklearn/metrics/classification.py:1145: UndefinedMetricWarning: F-score is ill-defined and being set to 0.0 in labels with no true samples.\n",
            "  'recall', 'true', average, warn_for)\n"
          ],
          "name": "stderr"
        }
      ]
    },
    {
      "metadata": {
        "colab_type": "text",
        "id": "YhIFA-FagZn3"
      },
      "cell_type": "markdown",
      "source": [
        "#### Comentario\n",
        "\n",
        "Podemos observar que el f1 score es bastante bueno. En un principio dio un f1 score de 0.97, lo que era bastante sospechoso, y se debía a que no se había eliminado el padding. Luego de eliminarlo nos da 0.9.\n",
        "\n",
        "**OBSERVACIÓN:** Para que se tome en cuenta el desbalanceo de clases se uso \"'weighted'\". Se supone que esto nos permite trabajar con clases desbalanceadas. También se le podría dar a esta función un arreglo de pesos, pero no hay mucha información de como usar esto. Su documentación es: \n",
        "Calculate metrics for each label, and find their average weighted by support (the number of true instances for each label). This alters ‘macro’ to account for label imbalance; it can result in an F-score that is not between precision and recall. "
      ]
    },
    {
      "metadata": {
        "colab_type": "text",
        "id": "hq-cbekZSv92"
      },
      "cell_type": "markdown",
      "source": [
        "### g) Cambiando el tamaño del embedding \n",
        "\n",
        "Tamaño de embedding a la mitad"
      ]
    },
    {
      "metadata": {
        "colab_type": "code",
        "id": "ekhnyRzqSsM1",
        "outputId": "dfa8f9fe-94a5-463e-d7fd-e9e09ea12c8a",
        "colab": {
          "base_uri": "https://localhost:8080/",
          "height": 377
        }
      },
      "cell_type": "code",
      "source": [
        "\n",
        "embedding_vector = 16\n",
        "model = Sequential()\n",
        "model.add(Embedding(input_dim=n_lemmas, output_dim=embedding_vector, input_length=max_input_lenght))\n",
        "model.add(LSTM(units=100,return_sequences=True))\n",
        "model.add(Dense(n_labels, activation='softmax'))\n",
        "model.summary()\n",
        "model.compile(loss='categorical_crossentropy', optimizer='adam')\n",
        "history_g = model.fit(X_train, y_train, validation_data=(X_test, y_test), epochs=3, batch_size=128)"
      ],
      "execution_count": 51,
      "outputs": [
        {
          "output_type": "stream",
          "text": [
            "_________________________________________________________________\n",
            "Layer (type)                 Output Shape              Param #   \n",
            "=================================================================\n",
            "embedding_2 (Embedding)      (None, 81, 16)            323904    \n",
            "_________________________________________________________________\n",
            "lstm_2 (LSTM)                (None, 81, 100)           46800     \n",
            "_________________________________________________________________\n",
            "dense_2 (Dense)              (None, 81, 18)            1818      \n",
            "=================================================================\n",
            "Total params: 372,522\n",
            "Trainable params: 372,522\n",
            "Non-trainable params: 0\n",
            "_________________________________________________________________\n",
            "Train on 33656 samples, validate on 14425 samples\n",
            "Epoch 1/3\n",
            "33656/33656 [==============================] - 64s 2ms/step - loss: 0.5560 - val_loss: 0.2459\n",
            "Epoch 2/3\n",
            "33656/33656 [==============================] - 64s 2ms/step - loss: 0.2009 - val_loss: 0.1463\n",
            "Epoch 3/3\n",
            "33656/33656 [==============================] - 64s 2ms/step - loss: 0.1200 - val_loss: 0.1050\n"
          ],
          "name": "stdout"
        }
      ]
    },
    {
      "metadata": {
        "colab_type": "code",
        "id": "LrylTA4ntqTb",
        "outputId": "196ebe5f-3a83-43fc-ac64-d52840eafed2",
        "colab": {
          "base_uri": "https://localhost:8080/",
          "height": 308
        }
      },
      "cell_type": "code",
      "source": [
        "plot_history(history_g.history, \"G\")"
      ],
      "execution_count": 52,
      "outputs": [
        {
          "output_type": "display_data",
          "data": {
            "image/png": "[encoded data removed]",
            "text/plain": [
              "<matplotlib.figure.Figure at 0x7f09d1de0ac8>"
            ]
          },
          "metadata": {
            "tags": []
          }
        }
      ]
    },
    {
      "metadata": {
        "colab_type": "code",
        "id": "E5ixgosbhssJ",
        "colab": {}
      },
      "cell_type": "code",
      "source": [
        "y_predict = model.predict(X_test,verbose=0)"
      ],
      "execution_count": 0,
      "outputs": []
    },
    {
      "metadata": {
        "colab_type": "code",
        "id": "3NGP6sBnhzVi",
        "colab": {}
      },
      "cell_type": "code",
      "source": [
        "y_predict_no_pad = list()\n",
        "for i in range(len(X_test_no_pad)):\n",
        "    y_predict_no_pad.append(y_predict[i][:len(X_test_no_pad[i])])"
      ],
      "execution_count": 0,
      "outputs": []
    },
    {
      "metadata": {
        "colab_type": "code",
        "id": "mEBbJkkbh4qW",
        "colab": {}
      },
      "cell_type": "code",
      "source": [
        "y_test_cat = categorical_to_num(y_test_no_pad)\n",
        "y_predict_cat = categorical_to_num(y_predict_no_pad)"
      ],
      "execution_count": 0,
      "outputs": []
    },
    {
      "metadata": {
        "colab_type": "code",
        "id": "HMqPvZ4Lh9sY",
        "outputId": "820caac9-c3b9-44ca-c2ea-65c1293b6f04",
        "colab": {
          "base_uri": "https://localhost:8080/",
          "height": 127
        }
      },
      "cell_type": "code",
      "source": [
        "print(\"F1 score on test: \", f1_score(y_test_cat, y_predict_cat, average='weighted'))"
      ],
      "execution_count": 56,
      "outputs": [
        {
          "output_type": "stream",
          "text": [
            "F1 score on test:  0.856893615774678\n"
          ],
          "name": "stdout"
        },
        {
          "output_type": "stream",
          "text": [
            "/usr/local/lib/python3.6/dist-packages/sklearn/metrics/classification.py:1143: UndefinedMetricWarning: F-score is ill-defined and being set to 0.0 in labels with no predicted samples.\n",
            "  'precision', 'predicted', average, warn_for)\n",
            "/usr/local/lib/python3.6/dist-packages/sklearn/metrics/classification.py:1145: UndefinedMetricWarning: F-score is ill-defined and being set to 0.0 in labels with no true samples.\n",
            "  'recall', 'true', average, warn_for)\n"
          ],
          "name": "stderr"
        }
      ]
    },
    {
      "metadata": {
        "colab_type": "text",
        "id": "6QuV7kSeiCIN"
      },
      "cell_type": "markdown",
      "source": [
        "#### Comentario\n",
        "\n",
        "Empeora un poco con respecto al anterior pero bastante poco. Esto debido a que el vector embedding tiene un óptimo para algún valor, que se debe buscar en base a la experimentación, es decir es un hiperparámetro."
      ]
    },
    {
      "metadata": {
        "colab_type": "text",
        "id": "MOTKLkTpifhQ"
      },
      "cell_type": "markdown",
      "source": [
        "### h) Aplicando Dropout"
      ]
    },
    {
      "metadata": {
        "colab_type": "code",
        "id": "AjCJksBhiigw",
        "outputId": "278478b2-bb78-4c16-8e6a-9089a7d43ac5",
        "colab": {
          "base_uri": "https://localhost:8080/",
          "height": 143
        }
      },
      "cell_type": "code",
      "source": [
        "from keras.layers import Dropout\n",
        "\n",
        "embedding_vector = 32\n",
        "\n",
        "model = Sequential()\n",
        "model.add(Embedding(input_dim=n_lemmas, output_dim=embedding_vector, input_length=max_input_lenght))\n",
        "model.add(LSTM(units=100,return_sequences=True)) #or recurrent_dropout=0.2\n",
        "model.add(Dropout(0.2))\n",
        "model.add(Dense(n_labels, activation='softmax'))\n",
        "model.compile(loss='categorical_crossentropy', optimizer='adam')\n",
        "history_h = model.fit(X_train, y_train, validation_data=(X_test, y_test), epochs=3, batch_size=128)"
      ],
      "execution_count": 57,
      "outputs": [
        {
          "output_type": "stream",
          "text": [
            "Train on 33656 samples, validate on 14425 samples\n",
            "Epoch 1/3\n",
            "33656/33656 [==============================] - 65s 2ms/step - loss: 0.5126 - val_loss: 0.2259\n",
            "Epoch 2/3\n",
            "33656/33656 [==============================] - 64s 2ms/step - loss: 0.1771 - val_loss: 0.1263\n",
            "Epoch 3/3\n",
            "33656/33656 [==============================] - 64s 2ms/step - loss: 0.1104 - val_loss: 0.0945\n"
          ],
          "name": "stdout"
        }
      ]
    },
    {
      "metadata": {
        "colab_type": "code",
        "id": "hmikiuwGtv3_",
        "outputId": "2408666d-e463-4c22-bebd-142664ad3def",
        "colab": {
          "base_uri": "https://localhost:8080/",
          "height": 308
        }
      },
      "cell_type": "code",
      "source": [
        "plot_history(history_h.history, \"H\")"
      ],
      "execution_count": 58,
      "outputs": [
        {
          "output_type": "display_data",
          "data": {
            "image/png": "[encoded data removed]",
            "text/plain": [
              "<matplotlib.figure.Figure at 0x7f096cfce6d8>"
            ]
          },
          "metadata": {
            "tags": []
          }
        }
      ]
    },
    {
      "metadata": {
        "colab_type": "code",
        "id": "FnY4v-R_j7wR",
        "outputId": "f95cd5e9-0ef8-46bd-97b9-95234b0aae0d",
        "colab": {
          "base_uri": "https://localhost:8080/",
          "height": 127
        }
      },
      "cell_type": "code",
      "source": [
        "y_predict = model.predict(X_test,verbose=0)\n",
        "\n",
        "y_predict_no_pad = list()\n",
        "for i in range(len(X_test_no_pad)):\n",
        "    y_predict_no_pad.append(y_predict[i][:len(X_test_no_pad[i])])\n",
        "    \n",
        "y_test_cat = categorical_to_num(y_test_no_pad)\n",
        "y_predict_cat = categorical_to_num(y_predict_no_pad)\n",
        "\n",
        "print(\"F1 score on test: \", f1_score(y_test_cat, y_predict_cat, average='weighted'))"
      ],
      "execution_count": 59,
      "outputs": [
        {
          "output_type": "stream",
          "text": [
            "F1 score on test:  0.8825447645223528\n"
          ],
          "name": "stdout"
        },
        {
          "output_type": "stream",
          "text": [
            "/usr/local/lib/python3.6/dist-packages/sklearn/metrics/classification.py:1143: UndefinedMetricWarning: F-score is ill-defined and being set to 0.0 in labels with no predicted samples.\n",
            "  'precision', 'predicted', average, warn_for)\n",
            "/usr/local/lib/python3.6/dist-packages/sklearn/metrics/classification.py:1145: UndefinedMetricWarning: F-score is ill-defined and being set to 0.0 in labels with no true samples.\n",
            "  'recall', 'true', average, warn_for)\n"
          ],
          "name": "stderr"
        }
      ]
    },
    {
      "metadata": {
        "colab_type": "text",
        "id": "FZP22DaEkNvl"
      },
      "cell_type": "markdown",
      "source": [
        "### i) Red Bidireccional"
      ]
    },
    {
      "metadata": {
        "colab_type": "code",
        "id": "qxxRIL3akMoO",
        "outputId": "43e55d39-a97b-4b2c-8b91-0b0ac4458342",
        "colab": {
          "base_uri": "https://localhost:8080/",
          "height": 377
        }
      },
      "cell_type": "code",
      "source": [
        "from keras.layers import Bidirectional\n",
        "\n",
        "embedding_vector = 32\n",
        "\n",
        "model = Sequential()\n",
        "\n",
        "model.add(Embedding(input_dim=n_lemmas, output_dim=embedding_vector, input_length=max_input_lenght))\n",
        "layer_lstm = LSTM(units=100,return_sequences=True)\n",
        "model.add(Bidirectional(layer_lstm,merge_mode='concat'))\n",
        "model.add(Dense(n_labels, activation='softmax'))\n",
        "model.summary()\n",
        "model.compile(loss='categorical_crossentropy', optimizer='adam')\n",
        "history_i = model.fit(X_train, y_train, validation_data=(X_test, y_test), epochs=3, batch_size=128)"
      ],
      "execution_count": 60,
      "outputs": [
        {
          "output_type": "stream",
          "text": [
            "_________________________________________________________________\n",
            "Layer (type)                 Output Shape              Param #   \n",
            "=================================================================\n",
            "embedding_4 (Embedding)      (None, 81, 32)            647808    \n",
            "_________________________________________________________________\n",
            "bidirectional_1 (Bidirection (None, 81, 200)           106400    \n",
            "_________________________________________________________________\n",
            "dense_4 (Dense)              (None, 81, 18)            3618      \n",
            "=================================================================\n",
            "Total params: 757,826\n",
            "Trainable params: 757,826\n",
            "Non-trainable params: 0\n",
            "_________________________________________________________________\n",
            "Train on 33656 samples, validate on 14425 samples\n",
            "Epoch 1/3\n",
            "33656/33656 [==============================] - 123s 4ms/step - loss: 0.3890 - val_loss: 0.2065\n",
            "Epoch 2/3\n",
            "33656/33656 [==============================] - 121s 4ms/step - loss: 0.1826 - val_loss: 0.1341\n",
            "Epoch 3/3\n",
            "33656/33656 [==============================] - 121s 4ms/step - loss: 0.1066 - val_loss: 0.0873\n"
          ],
          "name": "stdout"
        }
      ]
    },
    {
      "metadata": {
        "colab_type": "code",
        "id": "NApDpqnct1Zc",
        "outputId": "5f4a6a29-8b78-47eb-ebea-c26e0ce78add",
        "colab": {
          "base_uri": "https://localhost:8080/",
          "height": 308
        }
      },
      "cell_type": "code",
      "source": [
        "plot_history(history_i.history, \"I\")"
      ],
      "execution_count": 61,
      "outputs": [
        {
          "output_type": "display_data",
          "data": {
            "image/png": "[encoded data removed]",
            "text/plain": [
              "<matplotlib.figure.Figure at 0x7f096d033898>"
            ]
          },
          "metadata": {
            "tags": []
          }
        }
      ]
    },
    {
      "metadata": {
        "colab_type": "code",
        "id": "bjD4NyeKnAvX",
        "outputId": "c154f962-d9f0-4358-cfcf-ba2198fd656e",
        "colab": {
          "base_uri": "https://localhost:8080/",
          "height": 127
        }
      },
      "cell_type": "code",
      "source": [
        "y_predict = model.predict(X_test,verbose=0)\n",
        "\n",
        "y_predict_no_pad = list()\n",
        "for i in range(len(X_test_no_pad)):\n",
        "    y_predict_no_pad.append(y_predict[i][:len(X_test_no_pad[i])])\n",
        "    \n",
        "y_test_cat = categorical_to_num(y_test_no_pad)\n",
        "y_predict_cat = categorical_to_num(y_predict_no_pad)\n",
        "\n",
        "print(\"F1 score on test: \", f1_score(y_test_cat, y_predict_cat, average='weighted'))"
      ],
      "execution_count": 63,
      "outputs": [
        {
          "output_type": "stream",
          "text": [
            "F1 score on test:  0.8949796597834594\n"
          ],
          "name": "stdout"
        },
        {
          "output_type": "stream",
          "text": [
            "/usr/local/lib/python3.6/dist-packages/sklearn/metrics/classification.py:1143: UndefinedMetricWarning: F-score is ill-defined and being set to 0.0 in labels with no predicted samples.\n",
            "  'precision', 'predicted', average, warn_for)\n",
            "/usr/local/lib/python3.6/dist-packages/sklearn/metrics/classification.py:1145: UndefinedMetricWarning: F-score is ill-defined and being set to 0.0 in labels with no true samples.\n",
            "  'recall', 'true', average, warn_for)\n"
          ],
          "name": "stderr"
        }
      ]
    },
    {
      "metadata": {
        "id": "Hl4lx7G2ACCA",
        "colab_type": "text"
      },
      "cell_type": "markdown",
      "source": [
        "#### Comentario\n",
        "\n",
        "Buen resultado logrado con la capa bidireccional. Esta tiene sentido que sirva más debido a que en una oración las palabras pueden dar sentido a palabras tanto antes como después en la oración."
      ]
    },
    {
      "metadata": {
        "colab_type": "text",
        "id": "UutH4hvKuaEa"
      },
      "cell_type": "markdown",
      "source": [
        "### j) Mask Zero"
      ]
    },
    {
      "metadata": {
        "colab_type": "code",
        "id": "ekDKlugHuz3T",
        "outputId": "4a382880-fe26-4ced-ef96-ae56eb2360b5",
        "colab": {
          "base_uri": "https://localhost:8080/",
          "height": 377
        }
      },
      "cell_type": "code",
      "source": [
        "embedding_vector = 32\n",
        "model = Sequential()\n",
        "model.add(Embedding(input_dim=n_lemmas, output_dim=embedding_vector, input_length=max_input_lenght,mask_zero=True))\n",
        "model.add(LSTM(units=100,return_sequences=True))\n",
        "model.add(Dense(n_labels, activation='softmax'))\n",
        "model.summary()\n",
        "model.compile(loss='categorical_crossentropy', optimizer='adam')\n",
        "history_j = model.fit(X_train, y_train, validation_data=(X_test, y_test), epochs=3, batch_size=128)\n",
        "\n"
      ],
      "execution_count": 107,
      "outputs": [
        {
          "output_type": "stream",
          "text": [
            "_________________________________________________________________\n",
            "Layer (type)                 Output Shape              Param #   \n",
            "=================================================================\n",
            "embedding_16 (Embedding)     (None, 81, 32)            647808    \n",
            "_________________________________________________________________\n",
            "lstm_6 (LSTM)                (None, 81, 100)           53200     \n",
            "_________________________________________________________________\n",
            "dense_16 (Dense)             (None, 81, 18)            1818      \n",
            "=================================================================\n",
            "Total params: 702,826\n",
            "Trainable params: 702,826\n",
            "Non-trainable params: 0\n",
            "_________________________________________________________________\n",
            "Train on 33656 samples, validate on 14425 samples\n",
            "Epoch 1/3\n",
            "33656/33656 [==============================] - 88s 3ms/step - loss: 0.8490 - val_loss: 0.4397\n",
            "Epoch 2/3\n",
            "33656/33656 [==============================] - 85s 3ms/step - loss: 0.3903 - val_loss: 0.3554\n",
            "Epoch 3/3\n",
            "33656/33656 [==============================] - 85s 3ms/step - loss: 0.3002 - val_loss: 0.2562\n"
          ],
          "name": "stdout"
        }
      ]
    },
    {
      "metadata": {
        "colab_type": "code",
        "id": "PVscWhpkvHVu",
        "outputId": "c6e2efdf-48ef-404e-e80b-e4b46a6cad83",
        "colab": {
          "base_uri": "https://localhost:8080/",
          "height": 308
        }
      },
      "cell_type": "code",
      "source": [
        "plot_history(history_j.history, \"J\")"
      ],
      "execution_count": 108,
      "outputs": [
        {
          "output_type": "display_data",
          "data": {
            "image/png": "[encoded data removed]",
            "text/plain": [
              "<matplotlib.figure.Figure at 0x7f0963094208>"
            ]
          },
          "metadata": {
            "tags": []
          }
        }
      ]
    },
    {
      "metadata": {
        "colab_type": "code",
        "id": "-ZjGruRhvLKz",
        "outputId": "63b11c5d-2b13-4b18-d5e7-fb451ea4c032",
        "colab": {
          "base_uri": "https://localhost:8080/",
          "height": 91
        }
      },
      "cell_type": "code",
      "source": [
        "y_predict = model.predict(X_test,verbose=0)\n",
        "\n",
        "y_predict_no_pad = list()\n",
        "for i in range(len(X_test_no_pad)):\n",
        "    y_predict_no_pad.append(y_predict[i][:len(X_test_no_pad[i])])\n",
        "    \n",
        "y_test_cat = categorical_to_num(y_test_no_pad)\n",
        "y_predict_cat = categorical_to_num(y_predict_no_pad)\n",
        "\n",
        "print(\"F1 score on test: \", f1_score(y_test_cat, y_predict_cat, average='weighted'))"
      ],
      "execution_count": 66,
      "outputs": [
        {
          "output_type": "stream",
          "text": [
            "F1 score on test:  0.9212619460701132\n"
          ],
          "name": "stdout"
        },
        {
          "output_type": "stream",
          "text": [
            "/usr/local/lib/python3.6/dist-packages/sklearn/metrics/classification.py:1143: UndefinedMetricWarning: F-score is ill-defined and being set to 0.0 in labels with no predicted samples.\n",
            "  'precision', 'predicted', average, warn_for)\n"
          ],
          "name": "stderr"
        }
      ]
    },
    {
      "metadata": {
        "id": "LTNhiLAe-p1r",
        "colab_type": "text"
      },
      "cell_type": "markdown",
      "source": [
        "#### Comentario\n",
        "\n",
        "Mejor modelo logrado hasta el momento. Se debe a que no se toman en cuenta los ceros agregador por padding, gracias a esta máscara que se aplica."
      ]
    },
    {
      "metadata": {
        "id": "B818NUTbzpge",
        "colab_type": "text"
      },
      "cell_type": "markdown",
      "source": [
        "### k) GRU y Vainilla\n",
        "\n"
      ]
    },
    {
      "metadata": {
        "id": "nmtyw7XFv-Lf",
        "colab_type": "text"
      },
      "cell_type": "markdown",
      "source": [
        "#### GRU"
      ]
    },
    {
      "metadata": {
        "id": "CkKj6muo0BaU",
        "colab_type": "code",
        "colab": {
          "base_uri": "https://localhost:8080/",
          "height": 143
        },
        "outputId": "495dcb78-4f99-403f-ebf2-aff48fd52e43"
      },
      "cell_type": "code",
      "source": [
        "from keras.layers import Dropout\n",
        "from keras.layers import GRU\n",
        "model = Sequential()\n",
        "model.add(Embedding(input_dim=n_lemmas, output_dim=embedding_vector, input_length=max_input_lenght))\n",
        "model.add(GRU(units=100,return_sequences=True)) #or recurrent_dropout=0.2\n",
        "model.add(Dropout(0.2))\n",
        "model.add(Dense(n_labels, activation='softmax'))\n",
        "model.compile(loss='categorical_crossentropy', optimizer='adam')\n",
        "history_k_1 = model.fit(X_train, y_train, validation_data=(X_test, y_test), epochs=3, batch_size=128)\n",
        "\n"
      ],
      "execution_count": 67,
      "outputs": [
        {
          "output_type": "stream",
          "text": [
            "Train on 33656 samples, validate on 14425 samples\n",
            "Epoch 1/3\n",
            "33656/33656 [==============================] - 55s 2ms/step - loss: 0.5038 - val_loss: 0.1621\n",
            "Epoch 2/3\n",
            "33656/33656 [==============================] - 53s 2ms/step - loss: 0.1221 - val_loss: 0.0945\n",
            "Epoch 3/3\n",
            "33656/33656 [==============================] - 54s 2ms/step - loss: 0.0796 - val_loss: 0.0676\n"
          ],
          "name": "stdout"
        }
      ]
    },
    {
      "metadata": {
        "id": "t2IqjDyT7Mz5",
        "colab_type": "code",
        "colab": {
          "base_uri": "https://localhost:8080/",
          "height": 127
        },
        "outputId": "a2cfa9fd-2b21-4418-f1ff-5fb98d17b5bb"
      },
      "cell_type": "code",
      "source": [
        "y_predict = model.predict(X_test,verbose=0)\n",
        "\n",
        "y_predict_no_pad = list()\n",
        "for i in range(len(X_test_no_pad)):\n",
        "    y_predict_no_pad.append(y_predict[i][:len(X_test_no_pad[i])])\n",
        "    \n",
        "y_test_cat = categorical_to_num(y_test_no_pad)\n",
        "y_predict_cat = categorical_to_num(y_predict_no_pad)\n",
        "\n",
        "print(\"F1 score on test: \", f1_score(y_test_cat, y_predict_cat, average='weighted'))"
      ],
      "execution_count": 68,
      "outputs": [
        {
          "output_type": "stream",
          "text": [
            "F1 score on test:  0.925433812048334\n"
          ],
          "name": "stdout"
        },
        {
          "output_type": "stream",
          "text": [
            "/usr/local/lib/python3.6/dist-packages/sklearn/metrics/classification.py:1143: UndefinedMetricWarning: F-score is ill-defined and being set to 0.0 in labels with no predicted samples.\n",
            "  'precision', 'predicted', average, warn_for)\n",
            "/usr/local/lib/python3.6/dist-packages/sklearn/metrics/classification.py:1145: UndefinedMetricWarning: F-score is ill-defined and being set to 0.0 in labels with no true samples.\n",
            "  'recall', 'true', average, warn_for)\n"
          ],
          "name": "stderr"
        }
      ]
    },
    {
      "metadata": {
        "id": "oHlWxcHDwJyH",
        "colab_type": "text"
      },
      "cell_type": "markdown",
      "source": [
        "#### Vainilla/Simple"
      ]
    },
    {
      "metadata": {
        "id": "UvR0YNDHYQcI",
        "colab_type": "code",
        "colab": {
          "base_uri": "https://localhost:8080/",
          "height": 143
        },
        "outputId": "85b34c01-b209-4002-f127-253f8746ec13"
      },
      "cell_type": "code",
      "source": [
        "from keras.layers import Dropout\n",
        "from keras.layers import SimpleRNN\n",
        "model = Sequential()\n",
        "model.add(Embedding(input_dim=n_lemmas, output_dim=embedding_vector, input_length=max_input_lenght))\n",
        "model.add(SimpleRNN(units=100,return_sequences=True)) #or recurrent_dropout=0.2\n",
        "model.add(Dropout(0.2))\n",
        "model.add(Dense(n_labels, activation='softmax'))\n",
        "model.compile(loss='categorical_crossentropy', optimizer='adam')\n",
        "history_k_2 = model.fit(X_train, y_train, validation_data=(X_test, y_test), epochs=3, batch_size=128)\n"
      ],
      "execution_count": 93,
      "outputs": [
        {
          "output_type": "stream",
          "text": [
            "Train on 33656 samples, validate on 14425 samples\n",
            "Epoch 1/3\n",
            "33656/33656 [==============================] - 26s 759us/step - loss: 0.4729 - val_loss: 0.2301\n",
            "Epoch 2/3\n",
            "33656/33656 [==============================] - 24s 707us/step - loss: 0.1804 - val_loss: 0.1229\n",
            "Epoch 3/3\n",
            "33656/33656 [==============================] - 24s 709us/step - loss: 0.1037 - val_loss: 0.0871\n"
          ],
          "name": "stdout"
        }
      ]
    },
    {
      "metadata": {
        "id": "InaBn9gnY0fl",
        "colab_type": "code",
        "colab": {
          "base_uri": "https://localhost:8080/",
          "height": 127
        },
        "outputId": "45e4a67f-550e-451c-95d9-9403503e342e"
      },
      "cell_type": "code",
      "source": [
        "y_predict = model.predict(X_test,verbose=0)\n",
        "\n",
        "y_predict_no_pad = list()\n",
        "for i in range(len(X_test_no_pad)):\n",
        "    y_predict_no_pad.append(y_predict[i][:len(X_test_no_pad[i])])\n",
        "    \n",
        "y_test_cat = categorical_to_num(y_test_no_pad)\n",
        "y_predict_cat = categorical_to_num(y_predict_no_pad)\n",
        "\n",
        "print(\"F1 score on test: \", f1_score(y_test_cat, y_predict_cat, average='weighted'))"
      ],
      "execution_count": 94,
      "outputs": [
        {
          "output_type": "stream",
          "text": [
            "F1 score on test:  0.8941034031416356\n"
          ],
          "name": "stdout"
        },
        {
          "output_type": "stream",
          "text": [
            "/usr/local/lib/python3.6/dist-packages/sklearn/metrics/classification.py:1143: UndefinedMetricWarning: F-score is ill-defined and being set to 0.0 in labels with no predicted samples.\n",
            "  'precision', 'predicted', average, warn_for)\n",
            "/usr/local/lib/python3.6/dist-packages/sklearn/metrics/classification.py:1145: UndefinedMetricWarning: F-score is ill-defined and being set to 0.0 in labels with no true samples.\n",
            "  'recall', 'true', average, warn_for)\n"
          ],
          "name": "stderr"
        }
      ]
    },
    {
      "metadata": {
        "id": "-zr-AeJjwGS1",
        "colab_type": "text"
      },
      "cell_type": "markdown",
      "source": [
        "Podemos apreciar que el modelo GRU es superior al Vainilla simple."
      ]
    },
    {
      "metadata": {
        "colab_type": "text",
        "id": "GTECc5HPLDCu"
      },
      "cell_type": "markdown",
      "source": [
        "### l) Prediciendo un ejemplo"
      ]
    },
    {
      "metadata": {
        "colab_type": "code",
        "id": "mAkqCx6jSiW9",
        "colab": {}
      },
      "cell_type": "code",
      "source": [
        "def invertir_dict(d):\n",
        "    ret = dict()\n",
        "    for k,v in d.items():\n",
        "        ret[v] = k\n",
        "    return ret\n"
      ],
      "execution_count": 0,
      "outputs": []
    },
    {
      "metadata": {
        "colab_type": "code",
        "id": "vEpsklgBLLp8",
        "outputId": "6f786e43-d114-475b-ec50-edd488a4d08a",
        "colab": {
          "base_uri": "https://localhost:8080/",
          "height": 1493
        }
      },
      "cell_type": "code",
      "source": [
        "lemma_dict = invertir_dict(lemma2idx)\n",
        "tags_dict = invertir_dict(lab2idx)\n",
        "\n",
        "i = 200\n",
        "p = model.predict(np.array([X_test[i]]))\n",
        "p = np.argmax(p, axis=-1)\n",
        "y = y_test[i]\n",
        "y = np.argmax(y, axis=-1)\n",
        "print(\"{:15}: {:10}: {}:\".format(\"Lemma\", \"Pred\", \"Y\"))\n",
        "for w,pred,y in zip(X_test[i],p[0], y):\n",
        "    print(\"{:15}: {:10}: {}\".format(lemma_dict[w],tags_dict[pred], tags_dict[y]))\n",
        "    "
      ],
      "execution_count": 110,
      "outputs": [
        {
          "output_type": "stream",
          "text": [
            "Lemma          : Pred      : Y:\n",
            "1861           : O         : B-tim\n",
            ",              : O         : O\n",
            "the            : O         : O\n",
            "dominican      : B-geo     : B-gpe\n",
            "voluntarili    : O         : O\n",
            "return         : O         : O\n",
            "to             : O         : O\n",
            "the            : O         : O\n",
            "spanish        : B-gpe     : B-gpe\n",
            "empir          : O         : O\n",
            ",              : O         : O\n",
            "but            : O         : O\n",
            "two            : O         : B-tim\n",
            "year           : O         : O\n",
            "later          : B-tim     : B-tim\n",
            "they           : O         : O\n",
            "launch         : O         : O\n",
            "a              : O         : O\n",
            "war            : O         : O\n",
            "that           : O         : O\n",
            "restor         : O         : O\n",
            "independ       : O         : O\n",
            "in             : O         : O\n",
            "1865           : B-geo     : B-tim\n",
            ".              : O         : O\n",
            "a              : O         : O\n",
            "ENDPAD         : O         : ENDPAD\n",
            "ENDPAD         : O         : ENDPAD\n",
            "ENDPAD         : O         : ENDPAD\n",
            "ENDPAD         : O         : ENDPAD\n",
            "ENDPAD         : O         : ENDPAD\n",
            "ENDPAD         : O         : ENDPAD\n",
            "ENDPAD         : O         : ENDPAD\n",
            "ENDPAD         : O         : ENDPAD\n",
            "ENDPAD         : O         : ENDPAD\n",
            "ENDPAD         : O         : ENDPAD\n",
            "ENDPAD         : O         : ENDPAD\n",
            "ENDPAD         : O         : ENDPAD\n",
            "ENDPAD         : O         : ENDPAD\n",
            "ENDPAD         : O         : ENDPAD\n",
            "ENDPAD         : O         : ENDPAD\n",
            "ENDPAD         : O         : ENDPAD\n",
            "ENDPAD         : O         : ENDPAD\n",
            "ENDPAD         : O         : ENDPAD\n",
            "ENDPAD         : O         : ENDPAD\n",
            "ENDPAD         : O         : ENDPAD\n",
            "ENDPAD         : O         : ENDPAD\n",
            "ENDPAD         : O         : ENDPAD\n",
            "ENDPAD         : O         : ENDPAD\n",
            "ENDPAD         : O         : ENDPAD\n",
            "ENDPAD         : O         : ENDPAD\n",
            "ENDPAD         : O         : ENDPAD\n",
            "ENDPAD         : O         : ENDPAD\n",
            "ENDPAD         : O         : ENDPAD\n",
            "ENDPAD         : O         : ENDPAD\n",
            "ENDPAD         : O         : ENDPAD\n",
            "ENDPAD         : O         : ENDPAD\n",
            "ENDPAD         : O         : ENDPAD\n",
            "ENDPAD         : O         : ENDPAD\n",
            "ENDPAD         : O         : ENDPAD\n",
            "ENDPAD         : O         : ENDPAD\n",
            "ENDPAD         : O         : ENDPAD\n",
            "ENDPAD         : O         : ENDPAD\n",
            "ENDPAD         : O         : ENDPAD\n",
            "ENDPAD         : O         : ENDPAD\n",
            "ENDPAD         : O         : ENDPAD\n",
            "ENDPAD         : O         : ENDPAD\n",
            "ENDPAD         : O         : ENDPAD\n",
            "ENDPAD         : O         : ENDPAD\n",
            "ENDPAD         : O         : ENDPAD\n",
            "ENDPAD         : O         : ENDPAD\n",
            "ENDPAD         : O         : ENDPAD\n",
            "ENDPAD         : O         : ENDPAD\n",
            "ENDPAD         : O         : ENDPAD\n",
            "ENDPAD         : O         : ENDPAD\n",
            "ENDPAD         : O         : ENDPAD\n",
            "ENDPAD         : O         : ENDPAD\n",
            "ENDPAD         : O         : ENDPAD\n",
            "ENDPAD         : O         : ENDPAD\n",
            "ENDPAD         : O         : ENDPAD\n",
            "ENDPAD         : O         : ENDPAD\n"
          ],
          "name": "stdout"
        }
      ]
    },
    {
      "metadata": {
        "id": "xJRgHq-kv6Rb",
        "colab_type": "text"
      },
      "cell_type": "markdown",
      "source": [
        "#### Comentario\n",
        "\n",
        "Apreciamos que el modelo logra predecir muy bien la clase mas significativa, que es \"O\". Sin embargo no parece funcionar para otras etiquetas. Aunque si parece diferenciar entre cuando la etiqueta debería ser \"O\" y cuando no."
      ]
    },
    {
      "metadata": {
        "colab_type": "text",
        "id": "nwGGy7S-dneN"
      },
      "cell_type": "markdown",
      "source": [
        "### m) Cargando palabras del dataset"
      ]
    },
    {
      "metadata": {
        "colab_type": "code",
        "id": "1JJ7nP-edtTx",
        "outputId": "1aab0835-d888-427d-9c86-a5bbb22d297c",
        "colab": {
          "base_uri": "https://localhost:8080/",
          "height": 53
        }
      },
      "cell_type": "code",
      "source": [
        "dataset = df_ner.loc[:,[\"word\",\"lemma\"]]\n",
        "text = ' '.join(dataset[\"word\"]).lower() #corpus\n",
        "null_character = \"*\"\n",
        "chars = [null_character]+sorted(list(set(text)))\n",
        "print('total chars:', len(chars))\n",
        "char_indices = {c: i for i, c in enumerate(chars)}\n",
        "indices_char = {i: c for i, c in enumerate(chars)}\n",
        "maxlen = 40 # cut the text in semi-redundant sequences of maxlen characters\n",
        "step = 5 \n",
        "sentences = []\n",
        "next_chars = []\n",
        "size = int(len(text)*0.2) #solo un 20% del corpus\n",
        "for i in range(0, size - maxlen, step):\n",
        "    sentences.append(null_character+text[i: i + maxlen])\n",
        "    next_chars.append(text[i + maxlen])\n",
        "print('nb sequences:', len(sentences))\n"
      ],
      "execution_count": 97,
      "outputs": [
        {
          "output_type": "stream",
          "text": [
            "total chars: 72\n",
            "nb sequences: 242693\n"
          ],
          "name": "stdout"
        }
      ]
    },
    {
      "metadata": {
        "colab_type": "text",
        "id": "C0QBzwENePFh"
      },
      "cell_type": "markdown",
      "source": [
        "### n) "
      ]
    },
    {
      "metadata": {
        "colab_type": "code",
        "id": "RjHK6Ii8luZ1",
        "outputId": "c28f1abf-cb20-4fc3-c3f8-d2c493942e30",
        "colab": {
          "base_uri": "https://localhost:8080/",
          "height": 287
        }
      },
      "cell_type": "code",
      "source": [
        "\n",
        "\n",
        "\n",
        "dataX = [[char_indices[char] for char in sentence ] for sentence in sentences]\n",
        "dataY = [char_indices[char] for char in next_chars]\n",
        "...#dataX pad sequence padding='pre'\n",
        "...#dataY to categorical with num_classes=len(chars)\n",
        "from keras.preprocessing import sequence\n",
        "X = sequence.pad_sequences(dataX, maxlen=maxlen+1,padding='pre', value=char_indices[null_character])\n",
        "y = np.asarray([to_categorical(i, num_classes=len(chars)) for i in dataY])\n",
        "\n",
        "from keras.layers import CuDNNGRU,GRU\n",
        "embedding_vector = 16\n",
        "model = Sequential()\n",
        "model.add(Embedding(input_dim=len(chars), output_dim=embedding_vector, input_length=maxlen+1))#\n",
        "model.add(CuDNNGRU(units=512,return_sequences=False)) #or GRU\n",
        "model.add(Dropout(0.2))\n",
        "model.add(Dense(len(chars), activation='softmax'))\n",
        "model.compile(loss='categorical_crossentropy', optimizer='adam', metrics=['accuracy'])\n",
        "\n",
        "model.summary()"
      ],
      "execution_count": 98,
      "outputs": [
        {
          "output_type": "stream",
          "text": [
            "_________________________________________________________________\n",
            "Layer (type)                 Output Shape              Param #   \n",
            "=================================================================\n",
            "embedding_15 (Embedding)     (None, 41, 16)            1152      \n",
            "_________________________________________________________________\n",
            "cu_dnngru_3 (CuDNNGRU)       (None, 512)               814080    \n",
            "_________________________________________________________________\n",
            "dropout_11 (Dropout)         (None, 512)               0         \n",
            "_________________________________________________________________\n",
            "dense_15 (Dense)             (None, 72)                36936     \n",
            "=================================================================\n",
            "Total params: 852,168\n",
            "Trainable params: 852,168\n",
            "Non-trainable params: 0\n",
            "_________________________________________________________________\n"
          ],
          "name": "stdout"
        }
      ]
    },
    {
      "metadata": {
        "colab_type": "text",
        "id": "dSQ5HyG9eT4q"
      },
      "cell_type": "markdown",
      "source": [
        "### o) "
      ]
    },
    {
      "metadata": {
        "colab_type": "code",
        "id": "2rCdf0jhyuiv",
        "outputId": "7a4662aa-377b-4383-ca61-a064dfd674f7",
        "colab": {
          "base_uri": "https://localhost:8080/",
          "height": 2305
        }
      },
      "cell_type": "code",
      "source": [
        "def predict_next_char(model, sentence):\n",
        "    \"\"\"Predict the next character from the current one\"\"\"    \n",
        "    x_pred = [char_indices[null_character]]+[char_indices[char] for char in sentence]\n",
        "    x_pred = sequence.pad_sequences([x_pred], maxlen=maxlen+1,padding='pre',value=char_indices[null_character])\n",
        "    preds = model.predict(x_pred, verbose=0)[0]\n",
        "    next_index = np.random.choice(len(chars), p=preds) #take a sample\n",
        "    return indices_char[next_index]\n",
        "import random,sys\n",
        "def on_epoch_end(epoch, logs):\n",
        "    \"\"\"Function invoked at end of each epoch. Prints generated text.\"\"\"\n",
        "    print('\\n----- Generating text after Epoch: %d' % epoch)\n",
        "    start_index = random.randint(0, size - maxlen - 1)\n",
        "    sentence = text[start_index: start_index + maxlen]\n",
        "    print('----- Generating with seed: \"' + sentence + '\"')\n",
        "    sys.stdout.write(sentence)\n",
        "    for i in range(400):\n",
        "        next_char = predict_next_char(model, sentence)\n",
        "        sentence = sentence[1:] + next_char #for next character\n",
        "        sys.stdout.write(next_char)\n",
        "        sys.stdout.flush()\n",
        "    return\n",
        "from keras.callbacks import LambdaCallback\n",
        "print_callback = LambdaCallback(on_epoch_end=on_epoch_end)\n",
        "model.fit(X, y,batch_size=256,epochs=25, callbacks=[print_callback])\n"
      ],
      "execution_count": 99,
      "outputs": [
        {
          "output_type": "stream",
          "text": [
            "Epoch 1/25\n",
            "242693/242693 [==============================] - 46s 191us/step - loss: 2.4832 - acc: 0.2820\n",
            "\n",
            "----- Generating text after Epoch: 0\n",
            "----- Generating with seed: \"a shotgun at a flying bird without reali\"\n",
            "a shotgun at a flying bird without realissas anterre to kilent the daseded mo the doly ther comtoro turestarion 20 , asardy and ragbilel runtark in \" fulmly bo cithos bor on-harou sies ben of ghanst 1ud flo thoue ther intsorled that . the hove civer conuncy way say ano the vecerts . whe pon's alnestmofian jeal , 0han anw oursulg wil the porne unfirg ang conatian tho fhargint the ported fe prep grenmded to pole-ty . det and ofe bersian oEpoch 2/25\n",
            "242693/242693 [==============================] - 45s 183us/step - loss: 1.9578 - acc: 0.4218\n",
            "\n",
            "----- Generating text after Epoch: 1\n",
            "----- Generating with seed: \" arrest warrants for kony and other memb\"\n",
            " arrest warrants for kony and other membou prisen on intecties , and attack be nort syite res over the egentias of a termoting alous , as reath repused ly and figess barkast sey tolomon wigh pilst singraes , and are sance in 1977 's treopons tao billed the nolt out of the  over a ploak soith weakoun . hus rosed wes esouged moriver conmroling bo bamroune . nep twe rife on a secorcoms pramicidy romomy ateration spakes to ppacamed chraeth Epoch 3/25\n",
            "242693/242693 [==============================] - 44s 183us/step - loss: 1.6933 - acc: 0.5023\n",
            "\n",
            "----- Generating text after Epoch: 2\n",
            "----- Generating with seed: \"by the secretaries of each country 's wa\"\n",
            "by the secretaries of each country 's was armed froe ranshan has de and lefodity of kyek spakely fov recent geates , and mus saad the muiloamstay interated to five sencess as luss in 1801 . ol-dainf from chow . the overugury cormleedentiois . bils to 's plesined for aboum# the nol ka'd sounce sho lazgaral will eppersted in shifhering calls and sold laugn-killing a to especiational terranists wroed in malter and stop , was a nige hoversmEpoch 4/25\n",
            "242693/242693 [==============================] - 44s 183us/step - loss: 1.5284 - acc: 0.5483\n",
            "\n",
            "----- Generating text after Epoch: 3\n",
            "----- Generating with seed: \"mote-controlled roadside bomb killed fiv\"\n",
            "mote-controlled roadside bomb killed fivily injused congress ecthorit es denkhizencion u.s. arshreave . alemonts were proveling to relevit ubuna mon have be inco northern ageacr of greate and endiration officials . a stape cofes in raru . the earth 'sten noa head condald conricted . ieaq hlamfs . rishianers with the now alcose thote coren police countine ispowemine poift to decluating hot leader nawively incousloman cauted . \" mollae foEpoch 5/25\n",
            "242693/242693 [==============================] - 45s 184us/step - loss: 1.4165 - acc: 0.5815\n",
            "\n",
            "----- Generating text after Epoch: 4\n",
            "----- Generating with seed: \"sador to pakistan says no pakistanis wer\"\n",
            "sador to pakistan says no pakistanis were alrosaded formorian century leous alemings saturday this waush smacl as \" the kission to may out hilled a strgwt betaeing for increased at least noatian on and soturday anding the country . u.s aithors will neper leaders says o lan for protested siness tomar explodialine engured both approventally temmans government combinstor . polomem , bode from atcleast 20 . beeg aury , witk wizh in on that Epoch 6/25\n",
            "242693/242693 [==============================] - 45s 184us/step - loss: 1.3275 - acc: 0.6038\n",
            "\n",
            "----- Generating text after Epoch: 5\n",
            "----- Generating with seed: \"ting karolina sprem of croatia 07-jun , \"\n",
            "ting karolina sprem of croatia 07-jun , and singe muslim visit absparsing and officative dusict regort . hos that as ely wiondination is the two outer in north kinal propress thobee troaps in suman said thalles indian cunter ake oce in jenur havie died in countries said that foreign menidat agulitation of operation is naclla could the out of the u.n. and afghan soid tas another trading and melitary court navi forled the reggran earlier Epoch 7/25\n",
            "242693/242693 [==============================] - 44s 183us/step - loss: 1.2560 - acc: 0.6238\n",
            "\n",
            "----- Generating text after Epoch: 6\n",
            "----- Generating with seed: \"op shi'ite cleric passed close by , kill\"\n",
            "op shi'ite cleric passed close by , killing a older of beijonce . hundreds of tanks . the 17-membor of president vahu ,choared the country 's parestinian people have bulied leaders . a senterly cated in regure with hetaly englosial . but be releted final pease lab gaturo with has called outly muned other security sunriyalia palestinians says a voye of health . months as part of south korea  hante sucplyereds of western delevation . the Epoch 8/25\n",
            "242693/242693 [==============================] - 44s 182us/step - loss: 1.1854 - acc: 0.6431\n",
            "\n",
            "----- Generating text after Epoch: 7\n",
            "----- Generating with seed: \"sh says the united states must change it\"\n",
            "sh says the united states must change itspracked sints \" israel in over nutage the days reform . the united states . hamas is womed nations that killed . a space hill control century with somalios after police surbard as disappearflatels from celler were allewing two of civilians to water zexg weapons . thorof an international former prime minister . said a public of the biltion explosifal wahned the demands . the officials blamed frod Epoch 9/25\n",
            "242693/242693 [==============================] - 44s 183us/step - loss: 1.1272 - acc: 0.6591\n",
            "\n",
            "----- Generating text after Epoch: 8\n",
            "----- Generating with seed: \"intain order at the prison , located wes\"\n",
            "intain order at the prison , located western marcy sot military . the kidn plan cauphishan , killing foreign troops in also a new parliamentary election particle medinerly near the corricy would sappriso ses investments in mirccurded and seven public saturday numbers of irju the only murd serutice countries ale new spokesman as in the horea another suicide bomber pasked are sqientement to the bomb bcase entilled the lorgoy a met lasm guEpoch 10/25\n",
            "242693/242693 [==============================] - 44s 183us/step - loss: 1.0719 - acc: 0.6733\n",
            "\n",
            "----- Generating text after Epoch: 9\n",
            "----- Generating with seed: \"onflict over city transit workers ' pay \"\n",
            "onflict over city transit workers ' pay for there of the pressurent minister 2000 6,0009 , 30-5,000-than medisunt measerers throughout the preventing to groupe war crimes stomming . iran assessing u.s. ladia buning ministry bash tarabi is the government hag erperted a tamil togul or tibution and embassy . at least 32 people . the residency of industry . france says her government has resorvered countrief of the eastern china 's recest vEpoch 11/25\n",
            "242693/242693 [==============================] - 44s 182us/step - loss: 1.0250 - acc: 0.6874\n",
            "\n",
            "----- Generating text after Epoch: 10\n",
            "----- Generating with seed: \"des and other explosives . officials say\"\n",
            "des and other explosives . officials say the firls signed a trip . the bomb blas welestian strget on cuba . president bishs (nd its will serves at dusayces part of the saturds of independent exceased to relonged the rule-1009 billipies . have been mripes in badtia a loyg to reich officials along the separate . the irequds in the north , coneition lebens . the hat ex dustrayt chenky and that violence sich prosecuriting attacks on suburi Epoch 12/25\n",
            "242693/242693 [==============================] - 44s 183us/step - loss: 0.9791 - acc: 0.6998\n",
            "\n",
            "----- Generating text after Epoch: 11\n",
            "----- Generating with seed: \"ps , religious sites , and people . they\"\n",
            "ps , religious sites , and people . they are disarces in a mest-wanding to duilf mindurgered time (00 promited to a posul bradi minance . a bomb resort to crichailed from dueling railong for finding the surmest chance showmant the other purpeces reprosed in also the monday gaves show violence during a committing the she aseir flow north korean mexican groups , saying decender . to terrorisms are lemanise minister eschar , a chinf , in tEpoch 13/25\n",
            "242693/242693 [==============================] - 44s 182us/step - loss: 0.9439 - acc: 0.7100\n",
            "\n",
            "----- Generating text after Epoch: 12\n",
            "----- Generating with seed: \" meanwhile , israeli-palestinian talks a\"\n",
            " meanwhile , israeli-palestinian talks and etwicial secretary defigual said in set of high concerns at least 15 syituri 's back . the palestinians that members of the dallies camingate proce sooking into prisoner , mordal , k.nyhkh0 , and said it currently that controus esplased a member of the olderation the united states for will head two since is iz ceepres of the islamic missile shuption , and wednesday and mremger under rebels fromEpoch 14/25\n",
            "242693/242693 [==============================] - 44s 183us/step - loss: 0.9226 - acc: 0.7154\n",
            "\n",
            "----- Generating text after Epoch: 13\n",
            "----- Generating with seed: \"05 . their release comes after ethiopia \"\n",
            "05 . their release comes after ethiopia in indupted in afghanistan says it will sope , is roin force has bosnian were is an allow production bill dedict to spend nuele of nuclear and coting peace because in the united states . ard exports to resist-nations . his guestan intwo town france . he the leader states , who is a fly day in increase operations in enclude refionated rockets that he cussed ont the lamoverest month , betain on hithEpoch 15/25\n",
            "242693/242693 [==============================] - 44s 182us/step - loss: 0.9010 - acc: 0.7205\n",
            "\n",
            "----- Generating text after Epoch: 14\n",
            "----- Generating with seed: \"ate incidents involving cars that ignore\"\n",
            "ate incidents involving cars that ignores . the filiany also ecressured during a spain mr. pusts . police say they are serving in a1 and european cooperation in every hepionition , and members of a tricities . he believes the country in the news agency , as be ovies eder medical convensionar because they relations . iran and coaling to date twe french processionaming indian exports say the world trade criming regers and openifation , yhEpoch 16/25\n",
            "242693/242693 [==============================] - 44s 182us/step - loss: 0.8756 - acc: 0.7276\n",
            "\n",
            "----- Generating text after Epoch: 15\n",
            "----- Generating with seed: \" meanwhile , iraqi police say gunmen ass\"\n",
            " meanwhile , iraqi police say gunmen assailands from azabian police say they sto singure , 60 . killing , offoredy to tree of the morth countries will be lecannels and presser to revise intertues and to united nations from before time police and serve americans . at least 2,000 policeman deffined the protesters art personalle in the bagt or e slition countries to the congress since has across prodiced jomps , south abeahor negobitation Epoch 17/25\n",
            "242693/242693 [==============================] - 44s 182us/step - loss: 0.8663 - acc: 0.7310\n",
            "\n",
            "----- Generating text after Epoch: 16\n",
            "----- Generating with seed: \"chrysler about a possible merger . the n\"\n",
            "chrysler about a possible merger . the new locest minister of which with minding criponels of partion . seven u.s. presence for estending about 75 following a dulfic interest fron zaubad and hilide askasbos day coffins the second in some the bying conflict . newspaper nation . iraqi police shipupes and og syot and any egunation of support for the town confismaccounce said the u.s. country . officials parties powers in iraq . sessions ofEpoch 18/25\n",
            "242693/242693 [==============================] - 44s 183us/step - loss: 0.8566 - acc: 0.7321\n",
            "\n",
            "----- Generating text after Epoch: 17\n",
            "----- Generating with seed: \"ut a fire caused by the attack at al-had\"\n",
            "ut a fire caused by the attack at al-hadri and resicted in denied the using jowes , and said the holding abso the sharnno said vew grouns of state . the spokesman said feired a north korea has canceled the crimina .athalar has a resporsed to ukan walking for sebarate shair news , the form talks (n resigef commission interso . authorities , nailian fleg the united states dejondtrations pettested ally 40 bivist nato-led cooperation , nearEpoch 19/25\n",
            "242693/242693 [==============================] - 44s 183us/step - loss: 0.8509 - acc: 0.7336\n",
            "\n",
            "----- Generating text after Epoch: 18\n",
            "----- Generating with seed: \"ato and afghan forces work to clear kand\"\n",
            "ato and afghan forces work to clear kandahar 's parliament hanador and under the oppositions in prices lives . former lackerrouhd difers heaver munama , which has denied the resting on hanfai nations to china policement , see suadcy domators in only said saturday that the rain weftern aftac blong the country 's election to find set leing broadcast months since in the nation , which take mozenatcond on the fighting eeal writan between afEpoch 20/25\n",
            "242693/242693 [==============================] - 45s 185us/step - loss: 0.8468 - acc: 0.7353\n",
            "\n",
            "----- Generating text after Epoch: 19\n",
            "----- Generating with seed: \"ery happy with the way commissioner ian \"\n",
            "ery happy with the way commissioner ian in an the area . the finals mes arab budie fear beast six contril to distaip tinof and has plain and southern ports gunmen government officials since 2009 , and tahe repure . incthors his pated of attack in semeral livilians have be omered canduda9ks to usraine in the slu 5 thic perine and for the toljhion comes affered and state of sade eurlegs stoces and fire on the commission to a series of rewEpoch 21/25\n",
            "242693/242693 [==============================] - 44s 183us/step - loss: 0.8597 - acc: 0.7305\n",
            "\n",
            "----- Generating text after Epoch: 20\n",
            "----- Generating with seed: \"vilians and policemen have been killed i\"\n",
            "vilians and policemen have been killed in connection with the crimes , rugects . lub . verezez wy here said the u.s. lobor government . the poveralia called in leaders in government 's parties tive viref gerrents vitition was being accused hurdic sinhed meeting in new beamad al-earl ereegy late bodica press reports of former prime minister to the european union , capaballes as possible , police freedem to be was meanwing that prime miniEpoch 22/25\n",
            "242693/242693 [==============================] - 44s 183us/step - loss: 0.8462 - acc: 0.7355\n",
            "\n",
            "----- Generating text after Epoch: 21\n",
            "----- Generating with seed: \"release . foreign minister manuel rodrig\"\n",
            "release . foreign minister manuel rodrigation of calline with fired al-majilian burma said he was injuringed the town of ratshing security forces . the place of custobber . officials say the some chinese number to the etonopy supplier at the that has sell in the admanian scorking , blaspaniator for crimina , wwo kishinc . raid arbassing powition . lawtas said ne was anmined to kay that ays2000 have baked and abused blow for mr. tuanms oEpoch 23/25\n",
            "242693/242693 [==============================] - 44s 182us/step - loss: 0.8451 - acc: 0.7335\n",
            "\n",
            "----- Generating text after Epoch: 22\n",
            "----- Generating with seed: \"ed for spanish citizenship . officials e\"\n",
            "ed for spanish citizenship . officials expected to sovere the bird . in sep rations . in a strikul efforts . in china cleir the ministry spokesman says it has best men at he presentate a crowd maragered the hope aithorizy president cuta , but a commert mided the certain of the gaza strop . meanwhile , israeli muslim-soution committed by the bomb . pares of conviction . militants kay in the cass of bring is civil procts involving a deterEpoch 24/25\n",
            "242693/242693 [==============================] - 44s 183us/step - loss: 0.8388 - acc: 0.7348\n",
            "\n",
            "----- Generating text after Epoch: 23\n",
            "----- Generating with seed: \"place in cities and towns across the uni\"\n",
            "place in cities and towns across the united states . mr. abmas weels fasing signed a news monday in india and auming minister roment unitant suspects in recent istroation . a resultions to a lawy tounces afsec appeared . starmed from the stuter fash . samstry oo city of kathing us darning be a prost u. . mr. karurha as they be shove to reduce the arneaf fighting arrived members of the slown . \" attacked iraqi spokesman said the tomin anEpoch 25/25\n",
            "242693/242693 [==============================] - 44s 183us/step - loss: 0.8477 - acc: 0.7330\n",
            "\n",
            "----- Generating text after Epoch: 24\n",
            "----- Generating with seed: \"iplomats asked israeli prime minister ar\"\n",
            "iplomats asked israeli prime minister arahivers envides and edide-blector northwestern used provincial specification because human rights aru blay hil , golaval violence argud attacks including gears and says its necotsaration regulation is aigupala is light two palling for the deflest friday dineders ere throwing foreration , efforts to said the saturday . it has near the doll roce of the 62th ann danf for on the number of four markin "
          ],
          "name": "stdout"
        },
        {
          "output_type": "execute_result",
          "data": {
            "text/plain": [
              "<keras.callbacks.History at 0x7f096e5ef358>"
            ]
          },
          "metadata": {
            "tags": []
          },
          "execution_count": 99
        }
      ]
    },
    {
      "metadata": {
        "id": "zixmvREX90le",
        "colab_type": "text"
      },
      "cell_type": "markdown",
      "source": [
        "#### Comentario"
      ]
    },
    {
      "metadata": {
        "id": "F-rBXLp_6PDW",
        "colab_type": "text"
      },
      "cell_type": "markdown",
      "source": [
        "El método utilizado para predecir los siguientes caracteres es mediante la red neuronal que recibe un string y predice el siguiente caracter. De esta manera se puede repetir este proceso varias veces dandole a la red el mismo string mas el string predecido.\n"
      ]
    },
    {
      "metadata": {
        "colab_type": "text",
        "id": "pNxJ3T9leUWQ"
      },
      "cell_type": "markdown",
      "source": [
        "### p) "
      ]
    },
    {
      "metadata": {
        "colab_type": "code",
        "id": "0bWYfZ9VzW1H",
        "colab": {
          "base_uri": "https://localhost:8080/",
          "height": 73
        },
        "outputId": "4790bf60-ad35-412f-b07f-aa87feb1304b"
      },
      "cell_type": "code",
      "source": [
        "sentence = \"it is \"\n",
        "print('----- Generating with seed: \"' + sentence + '\"')\n",
        "sys.stdout.write(sentence)\n",
        "for i in range(400):\n",
        "    next_char = predict_next_char(model, sentence)\n",
        "    sentence = sentence[1:] + next_char \n",
        "    sys.stdout.write(next_char)\n",
        "    sys.stdout.flush()"
      ],
      "execution_count": 100,
      "outputs": [
        {
          "output_type": "stream",
          "text": [
            "----- Generating with seed: \"it is \"\n",
            "it is exerlage to avel peopold haddie endine protell won1 . hejbel halfoving terrat well froud havak hurl , fourd blast and hit ex the 20-ye3s he ally human are gutmin ispanato . the iaran jourd authoritiofia , whe , as leed the plot to disabtion , and over offle is abart has pending to tour a developman . one human arabiz , askic authoratth 'ar jultal of jigrep regai found herbives warling formar haved"
          ],
          "name": "stdout"
        }
      ]
    },
    {
      "metadata": {
        "id": "nVpk4SA992lP",
        "colab_type": "text"
      },
      "cell_type": "markdown",
      "source": [
        "Podemos ver que la red no logra formar oraciones con sentido. Lo que si hace es poder generar palabras separadas que parecen texto solo si no se lee detenidamente."
      ]
    },
    {
      "metadata": {
        "colab_type": "text",
        "id": "b8wP3g1zHJMX"
      },
      "cell_type": "markdown",
      "source": [
        "<a id=\"refs\"></a>\n",
        "## Referencias\n",
        "[1] George Kingsley Zipf (1949), *Human behavior and the principle of least effort*, Addison-Wesley Press  \n",
        "[2] https://www.nvidia.es/object/cuda-parallel-computing-es.html  \n",
        "[3] http://yann.lecun.com/exdb/mnist/  \n",
        "[4] Vincent, P., Larochelle, H., Bengio, Y., & Manzagol, P. A. (2008, July). *Extracting and composing robust features with denoising autoencoders*. ACM."
      ]
    }
  ]
}