{
 "cells": [
  {
   "cell_type": "markdown",
   "metadata": {
    "colab_type": "text",
    "id": "47UiWbvtPMez"
   },
   "source": [
    "<img src=\"http://www.exalumnos.usm.cl/wp-content/uploads/2015/06/MARCA-Color.jpg\" title=\"Title text\" width=\"50%\" height=\"50%\" />\n",
    "\n",
    "\n",
    "<hr style=\"height:2px;border:none\"/>\n",
    "<h1 align='center'> INF-395/477 Redes Neuronales Artificiales II-2018 </h1>\n",
    "\n",
    "<H3 align='center'> Tarea 2 - Redes Convolucionales y sus aplicaciones </H3>\n",
    "<hr style=\"height:2px;border:none\"/>\n",
    "\n",
    "\n",
    "\n",
    "**Temas**  \n",
    "* Diseño y entrenamiento de Redes Neuronales Convolucionales (CNNs).\n",
    "* Regularización en Redes Convolucionales.\n",
    "* *Transfer Learning.*\n",
    "* Aplicaciones de las Redes Neuronales Convolucionales\n",
    "\n",
    "**Formalidades**  \n",
    "* Equipos de trabajo de: 2 personas (*cada uno debe estar en condiciones de realizar una presentación y discutir sobre cada punto del trabajo realizado*)\n",
    "* Se debe preparar una presentación de 20 minutos. Presentador será elegido aleatoriamente.\n",
    "* Se debe preparar un (breve) Jupyter/IPython notebook que explique la actividad realizada y las conclusiones del trabajo\n",
    "* **Fecha de entrega y discusión: 23 de Noviembre**\n",
    "* Formato de entrega: envı́o de link Github al correo electrónico del ayudante (*<margarita.bugueno.13@sansano.usm.cl>*) , incluyendo al profesor en copia (*<cvalle@inf.utfsm.cl>*). Por favor especificar el siguiente asunto: [Tarea2-INF395-II-2018] \n",
    "\n",
    "<hr style=\"height:2px;border:none\"/>\n",
    "\n",
    "La tarea se divide en secciones:\n",
    "\n",
    "[1.](#primero) Convolutional Neural Networks (CNN) en CIFAR.  \n",
    "[2.](#segundo) Transfer Learning.   \n",
    "[3.](#tercero) Convolutional Neural Network sobre texto.\n",
    "\n",
    "\n",
    "### **Nota Importante:**  \n",
    "Para esta actividad **si es que no se cuenta con GPU** se recomienda utilizar el entorno virtual de __[Colaboratory - Google](https://colab.research.google.com/)__* . Así, podrá programar en la nube con recursos elevados y luego descargar el Jupyter Notebook y entregarlo en modo Informe.\n"
   ]
  },
  {
   "cell_type": "markdown",
   "metadata": {
    "colab_type": "text",
    "id": "5k7AJzX1-bdn"
   },
   "source": [
    "<a id=\"primero\"></a>\n",
    "## 1. Convolutional Neural Networks (CNN) en CIFAR \n",
    "\n",
    "En esta sección trabajaremos con un dataset bastante conocido y utilizado por la comunidad para experimentar reconocimiento de objetos en imágenes: CIFAR10 [3]. Se trata de un conjunto de 60.000 imágenes RGB de 32 × 32 pixeles que contiene 10 clases de objetos y 6000 ejemplos por clase. La versión utilizada se le atribuye a *A. Krizhevsky, V. Nair* y *G. Hinton* y viene separada en 50000 ejemplos de entrenamiento y 10000 casos de prueba que fueron obtenidos seleccionando 1000 imágenes aleatorias de cada clase.  \n",
    "Los datos restantes han sido ordenados aleatoriamente y están organizados en 5 bloques de entrenamiento o batches. Cabe destacar que las clases son mutuamente excluyentes y corresponden a las siguientes categorı́as: \n",
    "\n",
    "* Gato\n",
    "* Perro\n",
    "* Rana\n",
    "* Caballo\n",
    "* Pájaro\n",
    "* Ciervo\n",
    "* Avión\n",
    "* Automóvil\n",
    "* Camión \n",
    "* Barco\n",
    "\n",
    "Para esta tarea se experimentará con redes convolucionales, conocidas como CNNs ó ConvNets.  \n",
    "**Nota:** Para esta actividad es bastante aconsejable entrenar las redes usando una GPU, ya que de otro modo los tiempos de entrenamiento serán largos. Recuerde instalar Keras con gpu y el driver de cuda para la tarjeta gráfica.  "
   ]
  },
  {
   "cell_type": "markdown",
   "metadata": {
    "colab_type": "text",
    "id": "zU-6Yz50-iEw"
   },
   "source": [
    "> **a)** Construya una función que cargue todos los bloques de entrenamiento y pruebas del problema CIFAR generando como salida:  \n",
    "(i) dos matrices  Xtr, Ytr; correspondientes a las imágenes y etiquetas de entrenamiento  \n",
    "(ii) dos matrices Xt, Yt; correspondientes a las imágenes y etiquetas de pruebas  \n",
    "(iii) dos matrices Xv, Yv; correspondientes a las imágenes y etiquetas que se usarán como conjunto de validación (para tomar decisiones de diseño acerca del modelo)  \n",
    "\n",
    "> **Este último conjunto debe ser extraı́do desde el conjunto de entrenamiento original y no debe superar las 5000 imágenes.**\n",
    "\n",
    "> ```python\n",
    "label_names = ['airplane', 'automobile', 'bird', 'cat', 'deer', 'dog', 'frog', 'horse', 'ship', 'truck']  \n",
    "import numpy as np   \n",
    "import os   \n",
    "from keras.datasets import cifar10\n",
    "(x_train, y_train), (x_test, y_test) = cifar10.load_data()\n",
    "```"
   ]
  },
  {
   "cell_type": "markdown",
   "metadata": {
    "colab_type": "text",
    "id": "z3vyk2LS-kc7"
   },
   "source": [
    "> **b)** Prepare subconjuntos de entrenamiento, validación y pruebas normalizando las imágenes de entrenamiento y pruebas, dividiendo las intensidades originales de pixel en cada canal por 255.  Es importante notar que si desea trabajar con el orden de las dimensiones denominado ’tf’ (por defecto para TensorFlow) deberá realizar la transposición correspondiente para dejar el canal en donde corresponda. Finalmente, genere una representación adecuada de las salidas deseadas de la red.\n",
    "```python\n",
    "import keras\n",
    "x_train = x_train.transpose([0, 3, 1, 2]) #only if 'tf' dim-ordering is to be used\n",
    "x_test= x_test.transpose([0, 3, 1, 2]) #remove if 'th' dim-ordering is to be used\n",
    "y_train = keras.utils.to_categorical(y_train, num_classes)\n",
    "y_test = keras.utils.to_categorical(y_test, num_classes)\n",
    "```"
   ]
  },
  {
   "cell_type": "markdown",
   "metadata": {
    "colab_type": "text",
    "id": "WTirGmLB-rDO"
   },
   "source": [
    "> **c)** Defina una CNN con arquitectura $C \\times P \\times C \\times P \\times F \\times F$. Para ambas capas convolucionales utilice 64 filtros de $3 \\times 3$ y funciones de activación ReLU. Para las capas de pooling utilice filtros de $2 \\times 2$ con stride 2. Para la capa MLP escondida use 512 neuronas. Genere un esquema lo más compacto posible que muestre los cambios de forma (dimensionalidad) que experimenta un patrón de entrada a medida que se ejecuta un forward-pass y el número de parámetros de cada capa.\n",
    "```python\n",
    "from keras.models import Sequential\n",
    "from keras.layers import Dense, Dropout, Activation, Flatten\n",
    "from keras.layers import Conv2D, MaxPooling2D\n",
    "model = Sequential()\n",
    "model.add(Conv2D(64, (3, 3), padding='same', input_shape=x_train.shape[1:]))\n",
    "model.add(Activation('relu'))\n",
    "model.add(MaxPooling2D(pool_size=(2, 2)))\n",
    "model.add(Conv2D(64, (3, 3), padding='same'))\n",
    "model.add(Activation('relu'))\n",
    "model.add(MaxPooling2D(pool_size=(2, 2)))\n",
    "model.add(Flatten())\n",
    "model.add(Dense(512))\n",
    "model.add(Activation('relu'))\n",
    "model.add(Dense(10))\n",
    "model.add(Activation('softmax'))\n",
    "model.summary()\n",
    "```\n"
   ]
  },
  {
   "cell_type": "markdown",
   "metadata": {
    "colab_type": "text",
    "id": "46K1jCVy-rIF"
   },
   "source": [
    "> **d)**  Entrene la CNN definida en **c)** utilizando SGD. En este dataset, una tasa de aprendizaje “segura” es $\\eta = 10^{-4}$ o inferior, pero durante las primeras *epochs* el entrenamiento resulta demasiado lento. Para resolver el problema aprenderemos a controlar la tasa de aprendizaje utilizada en el entrenamiento. Implemente la siguiente idea: deseamos partir con una tasa de aprendizaje $\\eta = 10^{-3}$ y dividir por 2 ese valor cada 10 epochs. Suponga además que no queremos usar una tasa de aprendizaje menor a $\\eta = 10^{-5}$.  Construya un gráfico que muestre los errores de entrenamiento, validación y pruebas como función del número de “epochs”, entrene con 25 *epochs*.\n",
    "```python\n",
    "from keras.optimizers import SGD, rmsprop\n",
    "from keras.callbacks import LearningRateScheduler\n",
    "import math\n",
    "def step_decay(epoch):\n",
    "    initial_lrate = 0.001\n",
    "    lrate = initial_lrate * math.pow(0.5, math.floor((1+epoch)/5))\n",
    "    lrate = max(lrate,0.00001)\n",
    "    return lrate\n",
    "opt = SGD(lr=0.0, momentum=0.9, decay=0.0)\n",
    "lrate = LearningRateScheduler(step_decay)\n",
    "model.compile( ... )\n",
    "model.fit(x_train, y_train,batch_size=batch_size,epochs=epochs, validation_data=(x_val,y_val), shuffle=True, callbacks=[lrate])\n",
    "```"
   ]
  },
  {
   "cell_type": "markdown",
   "metadata": {
    "colab_type": "text",
    "id": "cPoWJQdc-rL3"
   },
   "source": [
    "> **e)** Entrene la CNN definida en c) utilizando **RMSProp** durante 25 *epochs*. Elija la función de pérdida más apropiada para este problema. Construya finalmente un gráfico que muestre los errores de entrenamiento, validación y pruebas como función del número de *epochs*.  \n",
    "*Hint: La curva sugiere algún cambio en el modelo definido, considere ésto en cuenta para las experimentaciones futuras.*\n",
    "```python\n",
    "from keras.optimizers import SGD, rmsprop\n",
    "opt = rmsprop(lr=0.001, decay=1e-6)\n",
    "model.compile( ... )\n",
    "model.fit(x_train, y_train,batch_size=batch_size,epochs=epochs, validation_data=(x_val, y_val),shuffle=True)\n",
    "```\n"
   ]
  },
  {
   "cell_type": "markdown",
   "metadata": {
    "colab_type": "text",
    "id": "bnPP81S5-rPn"
   },
   "source": [
    "> **f)** Evalúe el efecto de modificar el tamaño de los filtros (de convolución) reportando la sensibilidad del error de pruebas a estos cambios en dos tipos de arquitecturas, una profunda y otra no. Presente un gráfico o tabla resumen. Por simplicidad entre durante sólo 15-20 *epochs*.\n",
    "```python\n",
    "\"\"\"Shallow network\"\"\"\n",
    "nc = #convolutional filter size\n",
    "model = Sequential()\n",
    "model.add(Conv2D(64, (nc, nc), padding='same', input_shape=x_train.shape[1:]))\n",
    "model.add(Activation('relu'))\n",
    "model.add(MaxPooling2D(pool_size=(2, 2)))\n",
    "model.add(Flatten())\n",
    "model.add(Dense(512))\n",
    "model.add(Activation('relu'))\n",
    "model.add(Dense(10))\n",
    "model.add(Activation('softmax'))\n",
    "```\n"
   ]
  },
  {
   "cell_type": "markdown",
   "metadata": {
    "colab_type": "text",
    "id": "WrcSFrSI-rWD"
   },
   "source": [
    "> **g)** Se ha sugerido que la práctica bastante habitual de continuar una capa convolucional con una capa de *pooling* puede generar una reducción prematura de las dimensiones del patrón de entrada. Experimente con una arquitectura del tipo $C \\times P \\times C \\times P \\times F \\times F$ versus  $C \\times C \\times P \\times C \\times C \\times P \\times F \\times F$. Use 64 filtros para la primera capa convolucional y 128 para la segunda (o 64 filtros para las primeras 2 capas convolucionales y 128 para las dos últimas).  \n",
    "\n",
    "> Reflexione sobre qué le parece más sensato: ¿qué estructura permite un mejor desempeño y/o extracción de atributos de interés?¿es aconsejable mantener el tamaño de los filtros usados anteriormente (pregunta anterior)? o ¿usar filtros más grandes en la segunda capa convolucional y más pequeños en la primera? o ¿usar filtros más pequeños en la segunda capa convolucional y más grandes en la primera?  \n",
    "> **Hint:** con esta nueva arquitectura debiese superar el 70% de accuracy (de validación/test) antes de 5 epochs, pero la arquitectura es más sensible a overfitting por lo que podrı́a ser conveniente agregar un regularizador. Como resultado final de esta actividad gráfique los errores de entrenamiento, validación y pruebas como función del número de “epochs” (fijando el máximo en un número razonable como T = 25).\n",
    "```python\n",
    "model = Sequential()\n",
    "model.add(Conv2D(64, (3, 3), padding='same', input_shape=x_train.shape[1:]))\n",
    "model.add(Activation('relu'))\n",
    "model.add(Conv2D(64, (3, 3), padding='same'))\n",
    "model.add(Activation('relu'))\n",
    "model.add(MaxPooling2D(pool_size=(2, 2)))\n",
    "model.add(Dropout(0.25))\n",
    "```"
   ]
  },
  {
   "cell_type": "markdown",
   "metadata": {
    "colab_type": "text",
    "id": "wuWtQ-5w_Gmc"
   },
   "source": [
    "> **h)** Algunos investigadores, han propuesto que las capas de *pooling* se pueden reemplazar por capas convoluciones con stride 2. ¿Se reduce dimensionalidad de este modo? Compruébelo verificando los cambios de forma (dimensionalidad) que experimenta un patrón de entrada a medida que se ejecuta un *forward-pass*.  \n",
    "Entrene la red resultante con el método que prefiera, gráficando los errores de entrenamiento, validación y pruebas como función del número de “epochs” (fijando el máximo en un número razonable como T = 25).\n",
    "```python\n",
    "...\n",
    "model.add(Conv2D(128, (3, 3), padding='same'))\n",
    "model.add(Activation('relu'))\n",
    "model.add(Conv2D(128, (3, 3), padding='same'))\n",
    "model.add(Activation('relu'))\n",
    "model.add(Conv2D(64, (3, 3), strides=(2, 2), padding='same'))\n",
    "...\n",
    "```"
   ]
  },
  {
   "cell_type": "markdown",
   "metadata": {
    "colab_type": "text",
    "id": "dOHzsFkx_JsN"
   },
   "source": [
    "> **i)** Una forma interesante de regularizar modelos entrenados para visión artificial consiste en “aumentar” el número de ejemplos de entrenamiento usando transformaciones sencillas como: rotaciones, corrimientos y reflexiones, tanto horizontales como verticales. Explique por qué este procedimiento podrı́a ayudar a mejorar el modelo y el por qué las etiquetas no cambian al aplicar estas operaciones. Evalúe experimentalmente la conveniencia de incorporarlo.\n",
    "```python\n",
    "from keras.preprocessing.image import ImageDataGenerator\n",
    "datagen = ImageDataGenerator(\n",
    "    featurewise_center=False, # set input mean to 0 over the dataset\n",
    "    samplewise_center=False, # set each sample mean to 0\n",
    "    featurewise_std_normalization=False, # divide inputs by std of the dataset\n",
    "    samplewise_std_normalization=False, # divide each input by its std\n",
    "    zca_whitening=False, # apply ZCA whitening\n",
    "    rotation_range=0, # randomly rotate images (degrees, 0 to 180)\n",
    "    width_shift_range=0.1, # randomly shift images horizontally (fraction of width)\n",
    "    height_shift_range=0.1, # randomly shift images vertically (fraction of height)\n",
    "    horizontal_flip=True, # randomly flip images\n",
    "    vertical_flip=False) # randomly flip images\n",
    "datagen.fit(x_train)\n",
    "model.fit_generator(datagen.flow(x_train, y_train,batch_size=batch_size),steps_per_epoch=x_train.shape[0]// batch_size, epochs=epochs,validation_data=(x_test, y_test))\n",
    "```"
   ]
  },
  {
   "cell_type": "markdown",
   "metadata": {
    "colab_type": "text",
    "id": "iHTcmtUjW5KH"
   },
   "source": [
    "> **j)** Para una comparación del desempeño de la red neuronal, pre-procese el dataset de CIFAR-10 y calcule los descriptores manuales SIFT, para un mejor entendimiento de éstos consulte:  https://ianlondon.github.io/blog/how-to-sift-opencv/ y https://docs.opencv.org/3.4.3/da/df5/tutorial_py_sift_intro.html. Como se genera un descriptor de 128 dimensiones para cada *keypoint* comprima esta información de alguna manera, comente sobre la operación.\n",
    "\n",
    "> Es necesario instalar *OpenCV* para realizar el cálculo de este descriptor.  \n",
    "```python\n",
    "!pip install opencv-python==3.1 opencv-contrib-python==3.4.2.16\n",
    "```\n",
    "  \n",
    "\n",
    ">```python\n",
    "import cv2\n",
    "def pre_process(img):\n",
    "    if np.max(img) <= 1:\n",
    "        img*=255\n",
    "    img = img.astype(\"uint8\")\n",
    "    img_gray= cv2.cvtColor(img, cv2.COLOR_RGB2GRAY)\n",
    "    return img_gray\n",
    "def calculate_sift(cifar):\n",
    "    sift_cifar = []\n",
    "    for image in cifar:\n",
    "      img_gray = pre_process(image)\n",
    "      sift = cv2.xfeatures2d.SIFT_create()\n",
    "      kp, desc = sift.detectAndCompute(img_gray, None)\n",
    "      if type(desc) == type(None):\n",
    "        desc = np.zeros((1,128))\n",
    "      compress_desc = np.mean(desc,axis=0) #compress all keypoints\n",
    "      sift_cifar.append(compress_desc)\n",
    "    return np.asarray(sift_cifar)\n",
    "cifar_sift = calculate_sift(X)\n",
    "```\n",
    "*Recuerde escalar los datos antes de entregárselos al modelo*\n",
    "\n",
    "> **j.1)** Visualice los *keypoint* para una mejor comprensión visual de lo que son los descriptores manuales en alguna imagen aleatoria.\n",
    "```python\n",
    "sample_image = X[sample_index]\n",
    "gray_sample_image = pre_process(sample_image)\n",
    "sift = cv2.xfeatures2d.SIFT_create()\n",
    "kp = sift.detect(gray_sample_image, None)\n",
    "\"\"\"draw and plot\"\"\"\n",
    "img=cv2.drawKeypoints(gray_sample_image,kp,sample_image)\n",
    "import matplotlib.pyplot as plt\n",
    "plt.imshow(img)\n",
    "plt.show()\n",
    "```\n",
    "\n",
    "> Entrene una red neuronal densa (la misma que sigue a las capas convoluciones definidas en los modelos previos), compare el desempeño de la red con el modelo más básico (o de peor desempeño) y el modelo de mejor desempeño obtenido hasta este punto. Comente sobre el entrenamiento (error y tiempos de ejecución) y resultados.\n"
   ]
  },
  {
   "cell_type": "markdown",
   "metadata": {
    "colab_type": "text",
    "id": "1htP1tUw_Jxj"
   },
   "source": [
    "> **k)** Elija una de las redes entrenadas en esta sección (preferentemente una con buen desempeño) y determine los pares de objetos (por ejemplo “camiones” con “autos”) que la red tiende a confundir. Conjeture el motivo de tal confusión."
   ]
  },
  {
   "cell_type": "markdown",
   "metadata": {
    "colab_type": "text",
    "id": "czVixvEg_SM9"
   },
   "source": [
    "> **l)** Elija una de las redes entrenadas (preferentemente una con buen desempeño) y visualice los pesos correspondientes a los filtros de la primera capa convolucional. Visualice además el efecto del filtro sobre algunas imágenes de entrenamiento. Repita el proceso para los pesos de la última capa convolucional; Comente y compare con los descriptores SIFT."
   ]
  },
  {
   "cell_type": "markdown",
   "metadata": {
    "colab_type": "text",
    "id": "_dL5iY0wswax"
   },
   "source": [
    "<a id=\"tercero\"></a>\n",
    "## 2. *Transfer Learning*\n",
    "\n",
    "<img src=\"https://s3-ap-south-1.amazonaws.com/av-blog-media/wp-content/uploads/2017/05/31130754/transfer-learning.jpeg\" , style=\"float: right;\" />\n",
    "\n",
    "En esta sección se trabajará con el dataset trabajado anteriormente, CIFAR [3], pero en su versión más fina, en el cual se presentan 100 tipos distintos de categorías a clasificar la imagen (mutuamente excluyente), no 10 como se usó en las actividades anteriores. La estructura es la misma, son 60000 imágenes RGB de 32 $\\times$ 32 píxeles separados en 50 mil de entrenamiento y 10 mil de pruebas.  \n",
    "Aquí se experimentará con el concepto de *transfer learning* el cual consta en transferir conocimiento de un dominio fuente (*source domain*) a un dominio objetivo (*target domain*). En redes neuronales existen muchas representaciones de esto, en común consta en pre inicializar los pesos de la red de alguna manera que no sea con distribuciones de manera aleatoria (*fine tunning*). También está lo que es utilizar una representación generada a través de otra red entrenada con muchos datos, esto es tomar la red y \"*congelar*\" sus primeras capas para tomar esta representación y no entrenar esos pesos, lo que realizaremos en esta sección. \n",
    "\n",
    "Para cargar los datos utilice el siguiente comando:\n",
    "```python\n",
    "from keras.datasets import cifar100\n",
    "(x_train, y_train), (x_test, y_test) = cifar100.load_data(label_mode='fine')\n",
    "```\n",
    "\n",
    "Normalice entre [0,1] y transforme las etiquetas en *one hot vectors*.\n",
    "```python\n",
    "y_train = keras.utils.to_categorical(y_train, num_classes=100)\n",
    "y_test = keras.utils.to_categorical(y_test, num_classes=100)\n",
    "x_train_norm = x_train/255.0\n",
    "x_test_norm = x_test/255.0\n",
    "```\n",
    "\n",
    "> a) Entrene una red neuronal convolucional como se presenta en el código a continuación durante 15 *epochs*, realizando un gráfico de evolución de la función de pérdida y de la exactitud del algoritmo (*accuracy*) sobre ambos conjuntos, entrenamiento y pruebas. Comente sobre el tiempo de ejecución de este entrenamiento. Reporte el *accuracy* del modelo final sobre el conjunto de pruebas.\n",
    "```python\n",
    "from keras.models import Sequential\n",
    "from keras.layers import Dense,Conv2D,MaxPooling2D,Flatten,Dropout\n",
    "model = Sequential()\n",
    "model.add(Conv2D(32, (3, 3), padding='same',input_shape=x_train_norm.shape[1:],activation='relu'))\n",
    "model.add(Conv2D(32, (3, 3),padding='same',activation='relu'))\n",
    "model.add(MaxPooling2D(pool_size=(2, 2)))\n",
    "model.add(Conv2D(64, (3, 3),padding='same',activation='relu'))\n",
    "model.add(Conv2D(64, (3, 3),padding='same',activation='relu'))\n",
    "model.add(MaxPooling2D(pool_size=(2, 2)))\n",
    "model.add(Flatten())\n",
    "model.add(Dense(1024,activation='relu'))\n",
    "model.add(Dropout(0.5))\n",
    "...#add clasification layer\n",
    "model.summary()\n",
    "```\n",
    "<div class=\"alert alert-block alert-info\">Se utiliza una tasa de aprendizaje pequeña ya que es lo recomendable en *transfer learning*.</div>\n",
    "\n",
    "```python\n",
    "optimizer_ = SGD(lr=0.01,momentum=0.9)\n",
    "model.compile(loss='categorical_crossentropy', optimizer=optimizer_, metrics=['accuracy'])\n",
    "model.fit(x_train_norm, y_train, batch_size=128,epochs=15,verbose=1, validation_data=(x_test_norm,y_test))\n",
    "#train it\n",
    "```\n",
    "\n",
    "> b) Debido al comportamiento de las curvas de entrenamiento, claramente se ve que se necesita un regularizador. Experimente utilizando Dropout con una tasa de 0.25 en las tandas convolucionales, elija donde situarlo, luego de la primera convolución, después de la segunda, solamente después del *pooling*, en todas o alguna forma que le parezca conveniente, de argumentos de ello. La idea es que se forme una idea de dónde conviene colocar el regularizador y porqué.\n",
    "\n",
    "> c) Una forma de hacer lo que se conoce como *transfer learning* es utilizar el conocimiento (los parámetros) aprendido por una red entrenada con millones de imágenes, y tomar estos parámetros como los pre entrenados. Para esto se utilizará el modelo VGG16 [7] proporcionado a través de la interfaz de *keras*. Visualice el modelo y sus 23 capas. Para esta instancia se utilizará todo lo aprendido por las capas convolucionales, es decir, se eliminan las capas densas del modelo y se agregan unas nuevas a ser entrenadas desde cero.  \n",
    "*Recuerde normalizar los datos de la manera en que fue entrenado VGG* ¿Cuál es éste proceso?\n",
    "```python\n",
    "from keras.applications import VGG16\n",
    "from keras.applications.vgg16 import preprocess_input\n",
    "x_train_vgg = preprocess_input(x_train)\n",
    "x_test_vgg = preprocess_input(x_test)\n",
    "input_tensor=Input(shape=x_train_vgg.shape[1:])\n",
    "modelVGG = VGG16(weights='imagenet', include_top=False,input_tensor=input_tensor ) # LOAD PRETRAINED MODEL \n",
    "features_train = modelVGG.predict(x_train_vgg)\n",
    "features_test = modelVGG.predict(x_test_vgg)\n",
    "modelVGG.summary()\n",
    "```\n",
    "\n",
    "> d) Entrene esta red agregando una capa densa de 1024 neuronas seguido de un dropout de 0.5, finalmente es necesario agregar la capa de clasificación para las 100 clases. Utilice la misma configuración del optimizador para que las comparaciones sean válidas. Entrene unicamente por 10 *epochs* y grafique las curvas de entrenamiento con respecto al modelo definido en a) o con regularización definido en b) ¿Qué sucede? Comente.\n",
    "```python\n",
    "model = Sequential()\n",
    "model.add(Flatten(input_shape=features_train.shape[1:]))\n",
    "model.add(Dense(1024, activation='relu'))\n",
    "model.add(Dropout(0.5))\n",
    "...#clasification\n",
    "model.compile(optimizer=optimizer_,loss='categorical_crossentropy', metrics=['accuracy'])\n",
    "model.fit(features_train, y_train,epochs=epochs_, batch_size=128,verbose=1,validation_data=(features_test,y_test))\n",
    "```\n",
    "\n",
    "> e) Agregue una capa de normalización (*Batch Normalization* [8]) de las activaciones en las capas densas, esto es, restar por la media del batch y dividir por la desviación estándar. Vuelva a entrenar el modelo con la misma configuración pero ahora por **15 *epochs***. Comente lo observado y compare las curvas de convergencia con los modelos anteriores ¿Por qué esto mejora a lo presentado en e)? Realice los mismos gráficos que en a) a través del número de *epochs* y comente sobre el tiempo de ejecución de este entrenamiento.\n",
    "```python\n",
    "model = Sequential()\n",
    "model.add(Flatten(input_shape=features_train.shape[1:]))\n",
    "model.add(BatchNormalization())\n",
    "model.add(Dense(1024, activation='relu'))\n",
    "model.add(BatchNormalization())\n",
    "model.add(Dropout(0.5))\n",
    "...#clasification\n",
    "```\n",
    "\n",
    "> f) Finalmente experimente con utilizar toda la red pre-entrenada, eliminando la capa de clasificación de mil neuronas de VGG reemplazandola por la capa de clasificación para su modelo (o con alguna capa extra si estima conveniente), dejando \"congelada\" toda la red para atrás, ésto quiere decir que utilizará la representación generada por la última capa (no de clasificación) de la red VGG, ésto es las capas densas, no la convolucional como en la parte c). Grafique las curvas de entrenamiento (función de pérdida/*loss*) , comparando con b) y e).\n",
    "```python\n",
    "input_tensor=Input(shape=x_train_vgg.shape[1:])\n",
    "modelVGG = VGG16(weights='imagenet', include_top=True,input_tensor=input_tensor ) #LOAD PRETRAINED MODEL \n",
    "modelVGG.layers.pop() #delete last softmax layer\n",
    "modelVGG.summary()\n",
    "features_train = modelVGG.predict(x_train_vgg)\n",
    "features_test = modelVGG.predict(x_test_vgg)\n",
    "\"\"\"Add your network\"\"\"\n",
    "model = Sequential()\n",
    "model.add(BatchNormalization())\n",
    "model.add(Dropout(0.5))\n",
    "... #add your classification layer\n",
    "\"\"\"train it! \"\"\"\n",
    "model.compile(optimizer=optimizer_,loss='categorical_crossentropy', metrics=['accuracy'])\n",
    "model.fit(features_train,y_train,epochs=15,batch_size=128,verbose=1,validation_data=(features_test,y_test))\n",
    "```\n",
    "\n",
    "> g) ¿Cuándo podría ser útil y cuando no utilizar *transfer learning* o una red pre-entrenada?"
   ]
  },
  {
   "cell_type": "markdown",
   "metadata": {},
   "source": [
    "### Funciones auxiliares"
   ]
  },
  {
   "cell_type": "code",
   "execution_count": 2,
   "metadata": {},
   "outputs": [],
   "source": [
    "import matplotlib.pyplot as plt\n",
    "%matplotlib inline\n",
    "\n",
    "def plot_history(file,title): \n",
    "    history = pd.read_csv(file)\n",
    "    history.drop(['Unnamed: 0'],axis=1,inplace=True)\n",
    "        \n",
    "    accuracy = history['acc']\n",
    "    val_accuracy = history['val_acc']\n",
    "    loss = history['loss']\n",
    "    val_loss = history['val_loss']\n",
    "    epochs = range(len(accuracy))\n",
    "\n",
    "    plt.plot(epochs, accuracy, 'bo', label='Training accuracy')\n",
    "    plt.plot(epochs, val_accuracy, 'r^', label='Validation accuracy')\n",
    "    plt.title(title+'\\n Accuracy')\n",
    "    plt.ylabel('Accuracy')\n",
    "    plt.xlabel('Number of epochs')\n",
    "    plt.legend()\n",
    "    plt.figure()\n",
    "\n",
    "    plt.plot(epochs, loss, 'bo', label='Training loss')\n",
    "    plt.plot(epochs, val_loss, 'r^', label='Validation loss')\n",
    "    plt.title(title+'\\n Loss')\n",
    "    plt.ylabel('Loss')\n",
    "    plt.xlabel('Number of epochs')\n",
    "    plt.legend()\n",
    "    plt.show()"
   ]
  },
  {
   "cell_type": "markdown",
   "metadata": {},
   "source": [
    "### Cargando datos"
   ]
  },
  {
   "cell_type": "code",
   "execution_count": 3,
   "metadata": {},
   "outputs": [],
   "source": [
    "from keras.datasets import cifar100\n",
    "(x_train, y_train), (x_test, y_test) = cifar100.load_data(label_mode='fine')\n"
   ]
  },
  {
   "cell_type": "code",
   "execution_count": 4,
   "metadata": {},
   "outputs": [],
   "source": [
    "import keras\n",
    "from keras.models import Sequential\n",
    "from keras.layers import Dense,Conv2D,MaxPooling2D,Flatten,Dropout\n",
    "from keras.optimizers import SGD\n"
   ]
  },
  {
   "cell_type": "markdown",
   "metadata": {},
   "source": [
    "### Normalización y one hot vectors."
   ]
  },
  {
   "cell_type": "code",
   "execution_count": 5,
   "metadata": {},
   "outputs": [],
   "source": [
    "\n",
    "\n",
    "y_train = keras.utils.to_categorical(y_train, num_classes=100)\n",
    "y_test = keras.utils.to_categorical(y_test, num_classes=100)\n",
    "x_train_norm = x_train/255.0\n",
    "x_test_norm = x_test/255.0\n"
   ]
  },
  {
   "cell_type": "markdown",
   "metadata": {},
   "source": [
    "### a) Creación del modelo convolucional"
   ]
  },
  {
   "cell_type": "code",
   "execution_count": 9,
   "metadata": {},
   "outputs": [
    {
     "name": "stdout",
     "output_type": "stream",
     "text": [
      "_________________________________________________________________\n",
      "Layer (type)                 Output Shape              Param #   \n",
      "=================================================================\n",
      "conv2d_1 (Conv2D)            (None, 32, 32, 32)        896       \n",
      "_________________________________________________________________\n",
      "conv2d_2 (Conv2D)            (None, 32, 32, 32)        9248      \n",
      "_________________________________________________________________\n",
      "max_pooling2d_1 (MaxPooling2 (None, 16, 16, 32)        0         \n",
      "_________________________________________________________________\n",
      "conv2d_3 (Conv2D)            (None, 16, 16, 64)        18496     \n",
      "_________________________________________________________________\n",
      "conv2d_4 (Conv2D)            (None, 16, 16, 64)        36928     \n",
      "_________________________________________________________________\n",
      "max_pooling2d_2 (MaxPooling2 (None, 8, 8, 64)          0         \n",
      "_________________________________________________________________\n",
      "flatten_1 (Flatten)          (None, 4096)              0         \n",
      "_________________________________________________________________\n",
      "dense_1 (Dense)              (None, 1024)              4195328   \n",
      "_________________________________________________________________\n",
      "dropout_1 (Dropout)          (None, 1024)              0         \n",
      "_________________________________________________________________\n",
      "dense_2 (Dense)              (None, 100)               102500    \n",
      "=================================================================\n",
      "Total params: 4,363,396\n",
      "Trainable params: 4,363,396\n",
      "Non-trainable params: 0\n",
      "_________________________________________________________________\n"
     ]
    }
   ],
   "source": [
    "\n",
    "model = Sequential()\n",
    "model.add(Conv2D(32, (3, 3), padding='same',input_shape=x_train_norm.shape[1:],activation='relu'))\n",
    "\n",
    "model.add(Conv2D(32, (3, 3),padding='same',activation='relu'))\n",
    "model.add(MaxPooling2D(pool_size=(2, 2)))\n",
    "\n",
    "model.add(Conv2D(64, (3, 3),padding='same',activation='relu'))\n",
    "\n",
    "model.add(Conv2D(64, (3, 3),padding='same',activation='relu'))\n",
    "model.add(MaxPooling2D(pool_size=(2, 2)))\n",
    "\n",
    "model.add(Flatten())\n",
    "\n",
    "model.add(Dense(1024,activation='relu'))\n",
    "model.add(Dropout(0.5))\n",
    "\n",
    "model.add(Dense(100, activation='softmax')) #add clasification layer\n",
    "model.summary()"
   ]
  },
  {
   "cell_type": "code",
   "execution_count": 12,
   "metadata": {
    "scrolled": true
   },
   "outputs": [
    {
     "name": "stdout",
     "output_type": "stream",
     "text": [
      "Train on 50000 samples, validate on 10000 samples\n",
      "Epoch 1/15\n",
      "50000/50000 [==============================] - 236s 5ms/step - loss: 2.0603 - acc: 0.4585 - val_loss: 2.3373 - val_acc: 0.4057\n",
      "Epoch 2/15\n",
      "50000/50000 [==============================] - 242s 5ms/step - loss: 1.8516 - acc: 0.5043 - val_loss: 2.3605 - val_acc: 0.4061\n",
      "Epoch 3/15\n",
      "50000/50000 [==============================] - 230s 5ms/step - loss: 1.6642 - acc: 0.5447 - val_loss: 2.3571 - val_acc: 0.4099\n",
      "Epoch 4/15\n",
      "50000/50000 [==============================] - 224s 4ms/step - loss: 1.4663 - acc: 0.5904 - val_loss: 2.4062 - val_acc: 0.4133\n",
      "Epoch 5/15\n",
      "50000/50000 [==============================] - 221s 4ms/step - loss: 1.2749 - acc: 0.6364 - val_loss: 2.4331 - val_acc: 0.4128\n",
      "Epoch 6/15\n",
      "50000/50000 [==============================] - 221s 4ms/step - loss: 1.1204 - acc: 0.6732 - val_loss: 2.5665 - val_acc: 0.4099\n",
      "Epoch 7/15\n",
      "50000/50000 [==============================] - 221s 4ms/step - loss: 0.9499 - acc: 0.7192 - val_loss: 2.6304 - val_acc: 0.4148\n",
      "Epoch 8/15\n",
      "50000/50000 [==============================] - 221s 4ms/step - loss: 0.8337 - acc: 0.7482 - val_loss: 2.6955 - val_acc: 0.4111\n",
      "Epoch 9/15\n",
      "50000/50000 [==============================] - 221s 4ms/step - loss: 0.7211 - acc: 0.7794 - val_loss: 2.9051 - val_acc: 0.4051\n",
      "Epoch 10/15\n",
      "50000/50000 [==============================] - 221s 4ms/step - loss: 0.6361 - acc: 0.8048 - val_loss: 2.9640 - val_acc: 0.4113\n",
      "Epoch 11/15\n",
      "50000/50000 [==============================] - 221s 4ms/step - loss: 0.5534 - acc: 0.8301 - val_loss: 3.0071 - val_acc: 0.4110\n",
      "Epoch 12/15\n",
      "50000/50000 [==============================] - 221s 4ms/step - loss: 0.5027 - acc: 0.8445 - val_loss: 3.0505 - val_acc: 0.4026\n",
      "Epoch 13/15\n",
      "50000/50000 [==============================] - 222s 4ms/step - loss: 0.4507 - acc: 0.8597 - val_loss: 3.1355 - val_acc: 0.4153\n",
      "Epoch 14/15\n",
      "50000/50000 [==============================] - 221s 4ms/step - loss: 0.4126 - acc: 0.8730 - val_loss: 3.2556 - val_acc: 0.4118\n",
      "Epoch 15/15\n",
      "50000/50000 [==============================] - 221s 4ms/step - loss: 0.3691 - acc: 0.8846 - val_loss: 3.4037 - val_acc: 0.4116\n"
     ]
    }
   ],
   "source": [
    "optimizer_ = SGD(lr=0.01,momentum=0.9)\n",
    "model.compile(loss='categorical_crossentropy', optimizer=optimizer_, metrics=['accuracy'])\n",
    "history_a = model.fit(x_train_norm, y_train, batch_size=128,epochs=15,verbose=1, validation_data=(x_test_norm,y_test))"
   ]
  },
  {
   "cell_type": "markdown",
   "metadata": {},
   "source": [
    "Guardamos los resultados en un .csv, con el fín de no tener que recomputar el entrenamiento en caso de querer modificar los gráficos."
   ]
  },
  {
   "cell_type": "code",
   "execution_count": 18,
   "metadata": {},
   "outputs": [],
   "source": [
    "# Guardando resultados\n",
    "\n",
    "import pandas as pd\n",
    "\n",
    "\n",
    "df_aux = pd.DataFrame(history_a.history)\n",
    "df_aux.to_csv('2-A.csv')"
   ]
  },
  {
   "cell_type": "markdown",
   "metadata": {},
   "source": [
    "#### Resultados"
   ]
  },
  {
   "cell_type": "code",
   "execution_count": 35,
   "metadata": {},
   "outputs": [
    {
     "data": {
      "image/png": "[encoded data removed]",
      "text/plain": [
       "<Figure size 432x288 with 1 Axes>"
      ]
     },
     "metadata": {},
     "output_type": "display_data"
    },
    {
     "data": {
      "image/png": "[encoded data removed]",
      "text/plain": [
       "<Figure size 432x288 with 1 Axes>"
      ]
     },
     "metadata": {},
     "output_type": "display_data"
    }
   ],
   "source": [
    "plot_history('2-A.csv', '')"
   ]
  },
  {
   "cell_type": "markdown",
   "metadata": {},
   "source": [
    "#### Comentarios\n",
    "\n",
    "Podemos observar que el tiempo que demora cada epoch es bastante elevado, entre 4 y 5 minutos. Este tiempo se debe a la inmensa cantidad de parametros que tiene nuestra red, y a que la data no esta preprocesada. Esta se podría preprocesar para bajar considerablemente el tiempo de cada epoch como se vió en la pregunta 1.\n",
    "\n",
    "Sobre los resultados de la precisión y la perdida, podemos decir que el modelo esta extremadamente **sobreajustado**. Esto se puede arreglar con regularizadores de varios tipos, uno de ellos dropout, como se verá en la parte b)."
   ]
  },
  {
   "cell_type": "markdown",
   "metadata": {},
   "source": [
    "### b) Dropout "
   ]
  },
  {
   "cell_type": "markdown",
   "metadata": {},
   "source": [
    "#### Droput después del pooling\n",
    "\n",
    "Primero intentaremos situando el dropout de 0.25 luego de las capas de pooling."
   ]
  },
  {
   "cell_type": "code",
   "execution_count": 10,
   "metadata": {},
   "outputs": [
    {
     "name": "stdout",
     "output_type": "stream",
     "text": [
      "_________________________________________________________________\n",
      "Layer (type)                 Output Shape              Param #   \n",
      "=================================================================\n",
      "conv2d_5 (Conv2D)            (None, 32, 32, 32)        896       \n",
      "_________________________________________________________________\n",
      "conv2d_6 (Conv2D)            (None, 32, 32, 32)        9248      \n",
      "_________________________________________________________________\n",
      "max_pooling2d_3 (MaxPooling2 (None, 16, 16, 32)        0         \n",
      "_________________________________________________________________\n",
      "dropout_2 (Dropout)          (None, 16, 16, 32)        0         \n",
      "_________________________________________________________________\n",
      "conv2d_7 (Conv2D)            (None, 16, 16, 64)        18496     \n",
      "_________________________________________________________________\n",
      "dropout_3 (Dropout)          (None, 16, 16, 64)        0         \n",
      "_________________________________________________________________\n",
      "conv2d_8 (Conv2D)            (None, 16, 16, 64)        36928     \n",
      "_________________________________________________________________\n",
      "max_pooling2d_4 (MaxPooling2 (None, 8, 8, 64)          0         \n",
      "_________________________________________________________________\n",
      "dropout_4 (Dropout)          (None, 8, 8, 64)          0         \n",
      "_________________________________________________________________\n",
      "flatten_2 (Flatten)          (None, 4096)              0         \n",
      "_________________________________________________________________\n",
      "dense_3 (Dense)              (None, 1024)              4195328   \n",
      "_________________________________________________________________\n",
      "dropout_5 (Dropout)          (None, 1024)              0         \n",
      "_________________________________________________________________\n",
      "dense_4 (Dense)              (None, 100)               102500    \n",
      "=================================================================\n",
      "Total params: 4,363,396\n",
      "Trainable params: 4,363,396\n",
      "Non-trainable params: 0\n",
      "_________________________________________________________________\n"
     ]
    }
   ],
   "source": [
    "model = Sequential()\n",
    "model.add(Conv2D(32, (3, 3), padding='same',input_shape=x_train_norm.shape[1:],activation='relu'))\n",
    "\n",
    "model.add(Conv2D(32, (3, 3),padding='same',activation='relu'))\n",
    "model.add(MaxPooling2D(pool_size=(2, 2)))\n",
    "model.add(Dropout(0.25))\n",
    "\n",
    "model.add(Conv2D(64, (3, 3),padding='same',activation='relu'))\n",
    "model.add(Dropout(0.25))\n",
    "\n",
    "model.add(Conv2D(64, (3, 3),padding='same',activation='relu'))\n",
    "model.add(MaxPooling2D(pool_size=(2, 2)))\n",
    "model.add(Dropout(0.25))\n",
    "\n",
    "model.add(Flatten())\n",
    "\n",
    "model.add(Dense(1024,activation='relu'))\n",
    "model.add(Dropout(0.5))\n",
    "\n",
    "model.add(Dense(100, activation='softmax')) #add clasification layer\n",
    "model.summary()"
   ]
  },
  {
   "cell_type": "code",
   "execution_count": 20,
   "metadata": {
    "scrolled": true
   },
   "outputs": [
    {
     "name": "stdout",
     "output_type": "stream",
     "text": [
      "Train on 50000 samples, validate on 10000 samples\n",
      "Epoch 1/15\n",
      "50000/50000 [==============================] - 239s 5ms/step - loss: 4.4168 - acc: 0.0336 - val_loss: 4.0497 - val_acc: 0.0836\n",
      "Epoch 2/15\n",
      "50000/50000 [==============================] - 235s 5ms/step - loss: 3.9424 - acc: 0.0941 - val_loss: 3.7184 - val_acc: 0.1478\n",
      "Epoch 3/15\n",
      "50000/50000 [==============================] - 235s 5ms/step - loss: 3.6732 - acc: 0.1355 - val_loss: 3.4169 - val_acc: 0.1973\n",
      "Epoch 4/15\n",
      "50000/50000 [==============================] - 234s 5ms/step - loss: 3.4249 - acc: 0.1809 - val_loss: 3.2117 - val_acc: 0.2275\n",
      "Epoch 5/15\n",
      "50000/50000 [==============================] - 235s 5ms/step - loss: 3.1935 - acc: 0.2234 - val_loss: 3.0110 - val_acc: 0.2690\n",
      "Epoch 6/15\n",
      "50000/50000 [==============================] - 235s 5ms/step - loss: 3.0101 - acc: 0.2572 - val_loss: 2.8424 - val_acc: 0.3063\n",
      "Epoch 7/15\n",
      "50000/50000 [==============================] - 235s 5ms/step - loss: 2.8453 - acc: 0.2912 - val_loss: 2.6859 - val_acc: 0.3342\n",
      "Epoch 8/15\n",
      "50000/50000 [==============================] - 237s 5ms/step - loss: 2.7134 - acc: 0.3153 - val_loss: 2.5956 - val_acc: 0.3535\n",
      "Epoch 9/15\n",
      "50000/50000 [==============================] - 237s 5ms/step - loss: 2.5833 - acc: 0.3407 - val_loss: 2.4937 - val_acc: 0.3671\n",
      "Epoch 10/15\n",
      "50000/50000 [==============================] - 236s 5ms/step - loss: 2.4782 - acc: 0.3633 - val_loss: 2.3993 - val_acc: 0.3884\n",
      "Epoch 11/15\n",
      "50000/50000 [==============================] - 236s 5ms/step - loss: 2.3659 - acc: 0.3898 - val_loss: 2.3346 - val_acc: 0.4085\n",
      "Epoch 12/15\n",
      "50000/50000 [==============================] - 236s 5ms/step - loss: 2.2695 - acc: 0.4072 - val_loss: 2.2736 - val_acc: 0.4229\n",
      "Epoch 13/15\n",
      "50000/50000 [==============================] - 236s 5ms/step - loss: 2.1814 - acc: 0.4267 - val_loss: 2.2467 - val_acc: 0.4211\n",
      "Epoch 14/15\n",
      "50000/50000 [==============================] - 236s 5ms/step - loss: 2.0984 - acc: 0.4433 - val_loss: 2.1706 - val_acc: 0.4439\n",
      "Epoch 15/15\n",
      "50000/50000 [==============================] - 236s 5ms/step - loss: 2.0078 - acc: 0.4662 - val_loss: 2.1581 - val_acc: 0.4439\n"
     ]
    }
   ],
   "source": [
    "optimizer_ = SGD(lr=0.01,momentum=0.9)\n",
    "model.compile(loss='categorical_crossentropy', optimizer=optimizer_, metrics=['accuracy'])\n",
    "history_b = model.fit(x_train_norm, y_train, batch_size=128,epochs=15,verbose=1, validation_data=(x_test_norm,y_test))"
   ]
  },
  {
   "cell_type": "code",
   "execution_count": 21,
   "metadata": {},
   "outputs": [],
   "source": [
    "# Guardando resultados\n",
    "\n",
    "import pandas as pd\n",
    "\n",
    "\n",
    "df_aux = pd.DataFrame(history_b.history)\n",
    "df_aux.to_csv('2-B-1.csv')\n"
   ]
  },
  {
   "cell_type": "markdown",
   "metadata": {},
   "source": [
    "#### Resultados"
   ]
  },
  {
   "cell_type": "code",
   "execution_count": 34,
   "metadata": {},
   "outputs": [
    {
     "data": {
      "image/png": "[encoded data removed]",
      "text/plain": [
       "<Figure size 432x288 with 1 Axes>"
      ]
     },
     "metadata": {},
     "output_type": "display_data"
    },
    {
     "data": {
      "image/png": "[encoded data removed]",
      "text/plain": [
       "<Figure size 432x288 with 1 Axes>"
      ]
     },
     "metadata": {},
     "output_type": "display_data"
    }
   ],
   "source": [
    "plot_history('2-B-1.csv', 'Dropout After Pooling')"
   ]
  },
  {
   "cell_type": "markdown",
   "metadata": {},
   "source": [
    "#### Dropout antes del pooling y luego de las capas convolucionales"
   ]
  },
  {
   "cell_type": "code",
   "execution_count": 7,
   "metadata": {},
   "outputs": [
    {
     "name": "stdout",
     "output_type": "stream",
     "text": [
      "_________________________________________________________________\n",
      "Layer (type)                 Output Shape              Param #   \n",
      "=================================================================\n",
      "conv2d_1 (Conv2D)            (None, 32, 32, 32)        896       \n",
      "_________________________________________________________________\n",
      "conv2d_2 (Conv2D)            (None, 32, 32, 32)        9248      \n",
      "_________________________________________________________________\n",
      "dropout_1 (Dropout)          (None, 32, 32, 32)        0         \n",
      "_________________________________________________________________\n",
      "max_pooling2d_1 (MaxPooling2 (None, 16, 16, 32)        0         \n",
      "_________________________________________________________________\n",
      "conv2d_3 (Conv2D)            (None, 16, 16, 64)        18496     \n",
      "_________________________________________________________________\n",
      "dropout_2 (Dropout)          (None, 16, 16, 64)        0         \n",
      "_________________________________________________________________\n",
      "conv2d_4 (Conv2D)            (None, 16, 16, 64)        36928     \n",
      "_________________________________________________________________\n",
      "dropout_3 (Dropout)          (None, 16, 16, 64)        0         \n",
      "_________________________________________________________________\n",
      "max_pooling2d_2 (MaxPooling2 (None, 8, 8, 64)          0         \n",
      "_________________________________________________________________\n",
      "flatten_1 (Flatten)          (None, 4096)              0         \n",
      "_________________________________________________________________\n",
      "dense_1 (Dense)              (None, 1024)              4195328   \n",
      "_________________________________________________________________\n",
      "dropout_4 (Dropout)          (None, 1024)              0         \n",
      "_________________________________________________________________\n",
      "dense_2 (Dense)              (None, 100)               102500    \n",
      "=================================================================\n",
      "Total params: 4,363,396\n",
      "Trainable params: 4,363,396\n",
      "Non-trainable params: 0\n",
      "_________________________________________________________________\n"
     ]
    }
   ],
   "source": [
    "model = Sequential()\n",
    "model.add(Conv2D(32, (3, 3), padding='same',input_shape=x_train_norm.shape[1:],activation='relu'))\n",
    "\n",
    "model.add(Conv2D(32, (3, 3),padding='same',activation='relu'))\n",
    "model.add(Dropout(0.25))\n",
    "model.add(MaxPooling2D(pool_size=(2, 2)))\n",
    "\n",
    "\n",
    "model.add(Conv2D(64, (3, 3),padding='same',activation='relu'))\n",
    "model.add(Dropout(0.25))\n",
    "\n",
    "model.add(Conv2D(64, (3, 3),padding='same',activation='relu'))\n",
    "model.add(Dropout(0.25))\n",
    "model.add(MaxPooling2D(pool_size=(2, 2)))\n",
    "\n",
    "\n",
    "model.add(Flatten())\n",
    "\n",
    "model.add(Dense(1024,activation='relu'))\n",
    "model.add(Dropout(0.5))\n",
    "\n",
    "model.add(Dense(100, activation='softmax')) #add clasification layer\n",
    "model.summary()"
   ]
  },
  {
   "cell_type": "code",
   "execution_count": 8,
   "metadata": {
    "scrolled": true
   },
   "outputs": [
    {
     "name": "stdout",
     "output_type": "stream",
     "text": [
      "Train on 50000 samples, validate on 10000 samples\n",
      "Epoch 1/15\n",
      "50000/50000 [==============================] - 262s 5ms/step - loss: 4.3444 - acc: 0.0430 - val_loss: 4.1491 - val_acc: 0.0993\n",
      "Epoch 2/15\n",
      "50000/50000 [==============================] - 273s 5ms/step - loss: 3.8383 - acc: 0.1152 - val_loss: 3.7584 - val_acc: 0.1647\n",
      "Epoch 3/15\n",
      "50000/50000 [==============================] - 263s 5ms/step - loss: 3.5315 - acc: 0.1691 - val_loss: 3.5158 - val_acc: 0.2186\n",
      "Epoch 4/15\n",
      "50000/50000 [==============================] - 255s 5ms/step - loss: 3.2403 - acc: 0.2202 - val_loss: 3.2400 - val_acc: 0.2575\n",
      "Epoch 5/15\n",
      "50000/50000 [==============================] - 273s 5ms/step - loss: 3.0050 - acc: 0.2616 - val_loss: 3.1026 - val_acc: 0.2981\n",
      "Epoch 6/15\n",
      "50000/50000 [==============================] - 261s 5ms/step - loss: 2.8092 - acc: 0.2998 - val_loss: 2.9505 - val_acc: 0.3124\n",
      "Epoch 7/15\n",
      "50000/50000 [==============================] - 261s 5ms/step - loss: 2.6370 - acc: 0.3345 - val_loss: 2.7007 - val_acc: 0.3537\n",
      "Epoch 8/15\n",
      "50000/50000 [==============================] - 253s 5ms/step - loss: 2.4747 - acc: 0.3670 - val_loss: 2.7270 - val_acc: 0.3552\n",
      "Epoch 9/15\n",
      "50000/50000 [==============================] - 247s 5ms/step - loss: 2.3184 - acc: 0.3990 - val_loss: 2.5630 - val_acc: 0.3769\n",
      "Epoch 10/15\n",
      "50000/50000 [==============================] - 247s 5ms/step - loss: 2.1871 - acc: 0.4275 - val_loss: 2.4791 - val_acc: 0.3897\n",
      "Epoch 11/15\n",
      "50000/50000 [==============================] - 246s 5ms/step - loss: 2.0513 - acc: 0.4572 - val_loss: 2.4421 - val_acc: 0.3954\n",
      "Epoch 12/15\n",
      "50000/50000 [==============================] - 246s 5ms/step - loss: 1.9212 - acc: 0.4853 - val_loss: 2.3264 - val_acc: 0.4198\n",
      "Epoch 13/15\n",
      "50000/50000 [==============================] - 246s 5ms/step - loss: 1.8045 - acc: 0.5092 - val_loss: 2.2736 - val_acc: 0.4357\n",
      "Epoch 14/15\n",
      "50000/50000 [==============================] - 246s 5ms/step - loss: 1.6891 - acc: 0.5363 - val_loss: 2.2875 - val_acc: 0.4235\n",
      "Epoch 15/15\n",
      "50000/50000 [==============================] - 246s 5ms/step - loss: 1.5920 - acc: 0.5572 - val_loss: 2.2327 - val_acc: 0.4389\n"
     ]
    }
   ],
   "source": [
    "optimizer_ = SGD(lr=0.01,momentum=0.9)\n",
    "model.compile(loss='categorical_crossentropy', optimizer=optimizer_, metrics=['accuracy'])\n",
    "history_b_2 = model.fit(x_train_norm, y_train, batch_size=128,epochs=15,verbose=1, validation_data=(x_test_norm,y_test))"
   ]
  },
  {
   "cell_type": "code",
   "execution_count": 10,
   "metadata": {},
   "outputs": [],
   "source": [
    "# Guardando resultados\n",
    "\n",
    "import pandas as pd\n",
    "\n",
    "df_aux = pd.DataFrame(history_b_2.history)\n",
    "df_aux.to_csv('2-B-2.csv')"
   ]
  },
  {
   "cell_type": "markdown",
   "metadata": {},
   "source": [
    "#### Resultados "
   ]
  },
  {
   "cell_type": "code",
   "execution_count": 33,
   "metadata": {},
   "outputs": [
    {
     "data": {
      "image/png": "[encoded data removed]",
      "text/plain": [
       "<Figure size 432x288 with 1 Axes>"
      ]
     },
     "metadata": {},
     "output_type": "display_data"
    },
    {
     "data": {
      "image/png": "[encoded data removed]",
      "text/plain": [
       "<Figure size 432x288 with 1 Axes>"
      ]
     },
     "metadata": {},
     "output_type": "display_data"
    }
   ],
   "source": [
    "plot_history('2-B-2.csv', 'Dropout Before Pooling')"
   ]
  },
  {
   "cell_type": "markdown",
   "metadata": {},
   "source": [
    "#### Comentarios\n",
    "\n",
    "Claramente el dropout ayudo de sobremanera a la red a que el accuracy en el set de validación aumentara a niveles similares a los del set de entrenamiento, eliminandose el sobreajuste. Al observar redes convolucionales de otros proyectos se pudo ver que el dropout es siempre situado luego de cada capa, y luego de la capa de pooling de cada capa convolucional. Se experimento situando el dropout antes y después de la capa de pooling, en ambos casos fue mejor a la red de la pregunta a), sin embargo situarlo después del pooling es mejor, y genera menos sobreajuste."
   ]
  },
  {
   "cell_type": "markdown",
   "metadata": {},
   "source": [
    "### c) Visualizando Modelo VGG16"
   ]
  },
  {
   "cell_type": "code",
   "execution_count": 11,
   "metadata": {},
   "outputs": [
    {
     "name": "stdout",
     "output_type": "stream",
     "text": [
      "_________________________________________________________________\n",
      "Layer (type)                 Output Shape              Param #   \n",
      "=================================================================\n",
      "input_4 (InputLayer)         (None, 32, 32, 3)         0         \n",
      "_________________________________________________________________\n",
      "block1_conv1 (Conv2D)        (None, 32, 32, 64)        1792      \n",
      "_________________________________________________________________\n",
      "block1_conv2 (Conv2D)        (None, 32, 32, 64)        36928     \n",
      "_________________________________________________________________\n",
      "block1_pool (MaxPooling2D)   (None, 16, 16, 64)        0         \n",
      "_________________________________________________________________\n",
      "block2_conv1 (Conv2D)        (None, 16, 16, 128)       73856     \n",
      "_________________________________________________________________\n",
      "block2_conv2 (Conv2D)        (None, 16, 16, 128)       147584    \n",
      "_________________________________________________________________\n",
      "block2_pool (MaxPooling2D)   (None, 8, 8, 128)         0         \n",
      "_________________________________________________________________\n",
      "block3_conv1 (Conv2D)        (None, 8, 8, 256)         295168    \n",
      "_________________________________________________________________\n",
      "block3_conv2 (Conv2D)        (None, 8, 8, 256)         590080    \n",
      "_________________________________________________________________\n",
      "block3_conv3 (Conv2D)        (None, 8, 8, 256)         590080    \n",
      "_________________________________________________________________\n",
      "block3_pool (MaxPooling2D)   (None, 4, 4, 256)         0         \n",
      "_________________________________________________________________\n",
      "block4_conv1 (Conv2D)        (None, 4, 4, 512)         1180160   \n",
      "_________________________________________________________________\n",
      "block4_conv2 (Conv2D)        (None, 4, 4, 512)         2359808   \n",
      "_________________________________________________________________\n",
      "block4_conv3 (Conv2D)        (None, 4, 4, 512)         2359808   \n",
      "_________________________________________________________________\n",
      "block4_pool (MaxPooling2D)   (None, 2, 2, 512)         0         \n",
      "_________________________________________________________________\n",
      "block5_conv1 (Conv2D)        (None, 2, 2, 512)         2359808   \n",
      "_________________________________________________________________\n",
      "block5_conv2 (Conv2D)        (None, 2, 2, 512)         2359808   \n",
      "_________________________________________________________________\n",
      "block5_conv3 (Conv2D)        (None, 2, 2, 512)         2359808   \n",
      "_________________________________________________________________\n",
      "block5_pool (MaxPooling2D)   (None, 1, 1, 512)         0         \n",
      "=================================================================\n",
      "Total params: 14,714,688\n",
      "Trainable params: 14,714,688\n",
      "Non-trainable params: 0\n",
      "_________________________________________________________________\n"
     ]
    }
   ],
   "source": [
    "from keras.applications import VGG16\n",
    "from keras.applications.vgg16 import preprocess_input\n",
    "from keras.engine.input_layer import Input\n",
    "x_train_vgg = preprocess_input(x_train)\n",
    "x_test_vgg = preprocess_input(x_test)\n",
    "input_tensor = Input(shape=x_train_vgg.shape[1:]) #inicializa el tensor\n",
    "modelVGG = VGG16(weights='imagenet', include_top=False,input_tensor=input_tensor ) # LOAD PRETRAINED MODEL \n",
    "features_train = modelVGG.predict(x_train_vgg)\n",
    "features_test = modelVGG.predict(x_test_vgg)\n",
    "modelVGG.summary()"
   ]
  },
  {
   "cell_type": "markdown",
   "metadata": {},
   "source": [
    "#### Comentarios\n",
    "\n",
    "Podemos apreciar\n",
    "\n",
    "La función que debemos importar para normalizar los datos de la manera en que se trabajaron en el modelo VGG16 es la funcion \"preprocess_input()\". Investigando no encontramos de que manera normaliza exactamente los datos, pero no es de manera standar. "
   ]
  },
  {
   "cell_type": "markdown",
   "metadata": {},
   "source": [
    "### d)"
   ]
  },
  {
   "cell_type": "code",
   "execution_count": 39,
   "metadata": {},
   "outputs": [
    {
     "name": "stdout",
     "output_type": "stream",
     "text": [
      "Train on 50000 samples, validate on 10000 samples\n",
      "Epoch 1/10\n",
      "50000/50000 [==============================] - 5s 101us/step - loss: 14.8219 - acc: 0.0744 - val_loss: 14.6284 - val_acc: 0.0912\n",
      "Epoch 2/10\n",
      "50000/50000 [==============================] - 5s 98us/step - loss: 14.7317 - acc: 0.0841 - val_loss: 14.7429 - val_acc: 0.0838\n",
      "Epoch 3/10\n",
      "50000/50000 [==============================] - 5s 102us/step - loss: 14.6826 - acc: 0.0879 - val_loss: 14.7542 - val_acc: 0.0833\n",
      "Epoch 4/10\n",
      "50000/50000 [==============================] - 5s 99us/step - loss: 14.7823 - acc: 0.0819 - val_loss: 14.7650 - val_acc: 0.0834\n",
      "Epoch 5/10\n",
      "50000/50000 [==============================] - 5s 103us/step - loss: 14.7726 - acc: 0.0827 - val_loss: 14.7113 - val_acc: 0.0864\n",
      "Epoch 6/10\n",
      "50000/50000 [==============================] - 5s 101us/step - loss: 14.7044 - acc: 0.0872 - val_loss: 14.7486 - val_acc: 0.0843\n",
      "Epoch 7/10\n",
      "50000/50000 [==============================] - 5s 106us/step - loss: 14.7117 - acc: 0.0867 - val_loss: 14.6534 - val_acc: 0.0903\n",
      "Epoch 8/10\n",
      "50000/50000 [==============================] - 5s 99us/step - loss: 14.6673 - acc: 0.0896 - val_loss: 14.7814 - val_acc: 0.0826\n",
      "Epoch 9/10\n",
      "50000/50000 [==============================] - 5s 108us/step - loss: 14.7098 - acc: 0.0870 - val_loss: 14.6589 - val_acc: 0.0901\n",
      "Epoch 10/10\n",
      "50000/50000 [==============================] - 5s 99us/step - loss: 14.6645 - acc: 0.0897 - val_loss: 14.7120 - val_acc: 0.0870\n"
     ]
    }
   ],
   "source": [
    "model = Sequential()\n",
    "model.add(Flatten(input_shape=features_train.shape[1:]))\n",
    "model.add(Dense(1024, activation='relu'))\n",
    "model.add(Dropout(0.5))\n",
    "model.add(Dense(100, activation='softmax'))#clasification\n",
    "model.compile(optimizer=optimizer_,loss='categorical_crossentropy', metrics=['accuracy'])\n",
    "history_d = model.fit(features_train, y_train,epochs=10, batch_size=128,verbose=1,validation_data=(features_test,y_test))"
   ]
  },
  {
   "cell_type": "code",
   "execution_count": 40,
   "metadata": {},
   "outputs": [],
   "source": [
    "# Guardando resultados\n",
    "\n",
    "import pandas as pd\n",
    "\n",
    "df_aux = pd.DataFrame(history_d.history)\n",
    "df_aux.to_csv('2-D.csv')"
   ]
  },
  {
   "cell_type": "code",
   "execution_count": 41,
   "metadata": {},
   "outputs": [
    {
     "data": {
      "image/png": "[encoded data removed]",
      "text/plain": [
       "<Figure size 432x288 with 1 Axes>"
      ]
     },
     "metadata": {},
     "output_type": "display_data"
    },
    {
     "data": {
      "image/png": "[encoded data removed]",
      "text/plain": [
       "<Figure size 432x288 with 1 Axes>"
      ]
     },
     "metadata": {},
     "output_type": "display_data"
    }
   ],
   "source": [
    "plot_history('2-D.csv', 'Transfer Learning. No Batch Normalization')"
   ]
  },
  {
   "cell_type": "markdown",
   "metadata": {},
   "source": [
    "#### Comentarios\n",
    "\n",
    "Podemos ver que el modelo no converge a nada."
   ]
  },
  {
   "cell_type": "markdown",
   "metadata": {},
   "source": [
    "### e)"
   ]
  },
  {
   "cell_type": "code",
   "execution_count": 44,
   "metadata": {},
   "outputs": [
    {
     "name": "stdout",
     "output_type": "stream",
     "text": [
      "Train on 50000 samples, validate on 10000 samples\n",
      "Epoch 1/15\n",
      "50000/50000 [==============================] - 8s 155us/step - loss: 3.3019 - acc: 0.2710 - val_loss: 2.4306 - val_acc: 0.3907\n",
      "Epoch 2/15\n",
      "50000/50000 [==============================] - 8s 151us/step - loss: 2.4797 - acc: 0.3752 - val_loss: 2.3044 - val_acc: 0.4098\n",
      "Epoch 3/15\n",
      "50000/50000 [==============================] - 7s 137us/step - loss: 2.2545 - acc: 0.4149 - val_loss: 2.2443 - val_acc: 0.4248\n",
      "Epoch 4/15\n",
      "50000/50000 [==============================] - 8s 157us/step - loss: 2.1187 - acc: 0.4394 - val_loss: 2.2182 - val_acc: 0.4269\n",
      "Epoch 5/15\n",
      "50000/50000 [==============================] - 7s 150us/step - loss: 2.0212 - acc: 0.4558 - val_loss: 2.2147 - val_acc: 0.4302\n",
      "Epoch 6/15\n",
      "50000/50000 [==============================] - 8s 160us/step - loss: 1.9392 - acc: 0.4717 - val_loss: 2.1908 - val_acc: 0.4415\n",
      "Epoch 7/15\n",
      "50000/50000 [==============================] - 7s 150us/step - loss: 1.8640 - acc: 0.4866 - val_loss: 2.1864 - val_acc: 0.4415\n",
      "Epoch 8/15\n",
      "50000/50000 [==============================] - 8s 158us/step - loss: 1.7976 - acc: 0.5017 - val_loss: 2.1888 - val_acc: 0.4380\n",
      "Epoch 9/15\n",
      "50000/50000 [==============================] - 8s 151us/step - loss: 1.7434 - acc: 0.5118 - val_loss: 2.1877 - val_acc: 0.4419\n",
      "Epoch 10/15\n",
      "50000/50000 [==============================] - 8s 155us/step - loss: 1.6892 - acc: 0.5233 - val_loss: 2.1866 - val_acc: 0.4460\n",
      "Epoch 11/15\n",
      "50000/50000 [==============================] - 9s 187us/step - loss: 1.6370 - acc: 0.5368 - val_loss: 2.1987 - val_acc: 0.4428\n",
      "Epoch 12/15\n",
      "50000/50000 [==============================] - 10s 197us/step - loss: 1.5759 - acc: 0.5482 - val_loss: 2.2066 - val_acc: 0.4459\n",
      "Epoch 13/15\n",
      "50000/50000 [==============================] - 8s 155us/step - loss: 1.5372 - acc: 0.5609 - val_loss: 2.2062 - val_acc: 0.4466\n",
      "Epoch 14/15\n",
      "50000/50000 [==============================] - 7s 148us/step - loss: 1.4802 - acc: 0.5730 - val_loss: 2.2278 - val_acc: 0.4417\n",
      "Epoch 15/15\n",
      "50000/50000 [==============================] - 8s 153us/step - loss: 1.4334 - acc: 0.5837 - val_loss: 2.2371 - val_acc: 0.4427\n"
     ]
    }
   ],
   "source": [
    "from keras.layers.normalization import BatchNormalization\n",
    "\n",
    "model = Sequential()\n",
    "model.add(Flatten(input_shape=features_train.shape[1:]))\n",
    "model.add(BatchNormalization())\n",
    "model.add(Dense(1024, activation='relu'))\n",
    "model.add(BatchNormalization())\n",
    "model.add(Dropout(0.5))\n",
    "model.add(Dense(100, activation='softmax'))#clasification\n",
    "model.compile(optimizer=optimizer_,loss='categorical_crossentropy', metrics=['accuracy'])\n",
    "history_e = model.fit(features_train, y_train,epochs=15, batch_size=128,verbose=1,validation_data=(features_test,y_test))"
   ]
  },
  {
   "cell_type": "code",
   "execution_count": 45,
   "metadata": {},
   "outputs": [],
   "source": [
    "# Guardando resultados\n",
    "\n",
    "import pandas as pd\n",
    "\n",
    "df_aux = pd.DataFrame(history_e.history)\n",
    "df_aux.to_csv('2-E.csv')"
   ]
  },
  {
   "cell_type": "code",
   "execution_count": 47,
   "metadata": {},
   "outputs": [
    {
     "data": {
      "image/png": "[encoded data removed]",
      "text/plain": [
       "<Figure size 432x288 with 1 Axes>"
      ]
     },
     "metadata": {},
     "output_type": "display_data"
    },
    {
     "data": {
      "image/png": "[encoded data removed]",
      "text/plain": [
       "<Figure size 432x288 with 1 Axes>"
      ]
     },
     "metadata": {},
     "output_type": "display_data"
    }
   ],
   "source": [
    "plot_history('2-E.csv', 'Transfer Learning. Batch Normalization')"
   ]
  },
  {
   "cell_type": "markdown",
   "metadata": {},
   "source": [
    "#### Comentarios\n",
    "\n",
    "En esta sección se uso Batch Normalization, una técnica que normaliza las activaciones de la capa anterior de donde se aplica, y hace que la media de estas activaciones se mantenga cercana a 0 y la desviación estandar cercana a 1. Esto impide la divergencia vista en la pregunta anterior."
   ]
  },
  {
   "cell_type": "markdown",
   "metadata": {},
   "source": [
    "### g) ¿Cuando usar transfer learning?"
   ]
  },
  {
   "cell_type": "markdown",
   "metadata": {},
   "source": [
    "El entrenamiento de un modelo predictivo usando Transfer learning puede poseer muchas ventajas con respecto a el entrenamiento de una red convencional. El uso de transfer learning puede hacer que la curva de aprendizaje de nuestro modelo parta desde un punto mas alto, y por ende tenga la posibilidad de llegar a un mayor grado de conocimiento. En ocaciones en las que tengamos pocos datos, pero si tengamos la posibilidad de absorber el conocimiento de otro modelo, usar Transfer Learning nos puede permitir hacer modelos bastante interesantes y exitosos, que sin Transfer Learning no sería posible."
   ]
  },
  {
   "cell_type": "code",
   "execution_count": null,
   "metadata": {},
   "outputs": [],
   "source": []
  }
 ],
 "metadata": {
  "accelerator": "GPU",
  "colab": {
   "collapsed_sections": [],
   "name": "Redes-Tarea2-Pregunta3.ipynb",
   "provenance": [],
   "toc_visible": true,
   "version": "0.3.2"
  },
  "kernelspec": {
   "display_name": "Python 3",
   "language": "python",
   "name": "python3"
  },
  "language_info": {
   "codemirror_mode": {
    "name": "ipython",
    "version": 3
   },
   "file_extension": ".py",
   "mimetype": "text/x-python",
   "name": "python",
   "nbconvert_exporter": "python",
   "pygments_lexer": "ipython3",
   "version": "3.6.5"
  }
 },
 "nbformat": 4,
 "nbformat_minor": 1
}
